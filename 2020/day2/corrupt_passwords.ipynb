{
 "metadata": {
  "language_info": {
   "codemirror_mode": {
    "name": "ipython",
    "version": 3
   },
   "file_extension": ".py",
   "mimetype": "text/x-python",
   "name": "python",
   "nbconvert_exporter": "python",
   "pygments_lexer": "ipython3",
   "version": "3.8.6-final"
  },
  "orig_nbformat": 2,
  "kernelspec": {
   "name": "python3",
   "display_name": "Python 3"
  }
 },
 "nbformat": 4,
 "nbformat_minor": 2,
 "cells": [
  {
   "source": [
    "# Day 2 Challenge\n",
    "You have a list of passwords (according to the corrupted database) and the corporate policy when that password was set.\n",
    "\n",
    "For example, suppose you have the following list:\n",
    "\n",
    "```\n",
    "1-3 a: abcde\n",
    "1-3 b: cdefg\n",
    "2-9 c: ccccccccc\n",
    "```\n",
    "\n",
    "Each line gives the password policy and then the password. The password policy indicates the lowest and highest number of times a given letter must appear for the password to be valid. For example, 1-3 a means that the password must contain a at least 1 time and at most 3 times.\n",
    "\n",
    "In the above example, 2 passwords are valid. The middle password, cdefg, is not; it contains no instances of b, but needs at least 1. The first and third passwords are valid: they contain one a or nine c, both within the limits of their respective policies.\n",
    "\n",
    "How many passwords are valid according to their policies?"
   ],
   "cell_type": "markdown",
   "metadata": {}
  },
  {
   "cell_type": "code",
   "execution_count": 1,
   "metadata": {},
   "outputs": [
    {
     "output_type": "execute_result",
     "data": {
      "text/plain": [
       "  Policy Symbol            Password\n",
       "0    1-3     q:                cqbm\n",
       "1  15-16     h:   hhhhhhhhhhhhhhbsh\n",
       "2   4-16     x:  xvbxswpnvxtnfjrxxx\n",
       "3    6-7     v:            kbbvnswp\n",
       "4  17-18     h:  hhhvhhhhhhhhhhhhhh"
      ],
      "text/html": "<div>\n<style scoped>\n    .dataframe tbody tr th:only-of-type {\n        vertical-align: middle;\n    }\n\n    .dataframe tbody tr th {\n        vertical-align: top;\n    }\n\n    .dataframe thead th {\n        text-align: right;\n    }\n</style>\n<table border=\"1\" class=\"dataframe\">\n  <thead>\n    <tr style=\"text-align: right;\">\n      <th></th>\n      <th>Policy</th>\n      <th>Symbol</th>\n      <th>Password</th>\n    </tr>\n  </thead>\n  <tbody>\n    <tr>\n      <th>0</th>\n      <td>1-3</td>\n      <td>q:</td>\n      <td>cqbm</td>\n    </tr>\n    <tr>\n      <th>1</th>\n      <td>15-16</td>\n      <td>h:</td>\n      <td>hhhhhhhhhhhhhhbsh</td>\n    </tr>\n    <tr>\n      <th>2</th>\n      <td>4-16</td>\n      <td>x:</td>\n      <td>xvbxswpnvxtnfjrxxx</td>\n    </tr>\n    <tr>\n      <th>3</th>\n      <td>6-7</td>\n      <td>v:</td>\n      <td>kbbvnswp</td>\n    </tr>\n    <tr>\n      <th>4</th>\n      <td>17-18</td>\n      <td>h:</td>\n      <td>hhhvhhhhhhhhhhhhhh</td>\n    </tr>\n  </tbody>\n</table>\n</div>"
     },
     "metadata": {},
     "execution_count": 1
    }
   ],
   "source": [
    "\"\"\" Load the data and explore it a bit \"\"\"\n",
    "import pandas as pd\n",
    "\n",
    "df = pd.read_table('passwords.txt', delimiter=' ')\n",
    "df.columns = ['Policy', 'Symbol', 'Password']\n",
    "df.head()"
   ]
  },
  {
   "cell_type": "code",
   "execution_count": 2,
   "metadata": {
    "tags": []
   },
   "outputs": [],
   "source": [
    "\"\"\" Find valid and corrupt passwords using Counter \"\"\"\n",
    "from collections import Counter\n",
    "\n",
    "valid_passwords = []\n",
    "corrupt_passwords = []\n",
    "\n",
    "for entry in df.iloc:\n",
    "    # preprocessing\n",
    "    minimum, maximum = entry.get('Policy').split('-')\n",
    "    symbol = entry.get('Symbol')[0]\n",
    "    password = entry.get('Password')\n",
    "    processed_entry = [(minimum, maximum), symbol, password]\n",
    "\n",
    "    # separate valid and corrupt passwords\n",
    "    counter = Counter(password)\n",
    "    if counter[symbol] < int(minimum) or counter[symbol] > int(maximum):\n",
    "        # count was not within policy constraints\n",
    "        corrupt_passwords.append(processed_entry)\n",
    "    else:\n",
    "        valid_passwords.append(processed_entry)\n"
   ]
  },
  {
   "cell_type": "code",
   "execution_count": 3,
   "metadata": {},
   "outputs": [
    {
     "output_type": "stream",
     "name": "stdout",
     "text": [
      "Corrupt\n[('6', '7'), 'v', 'kbbvnswp']\n[('4', '5'), 't', 'wcjtfpt']\n[('5', '11'), 'p', 'ppvhkgpmwfjp']\n[('5', '8'), 'c', 'cbhhrtsbpf']\n[('13', '14'), 't', 'ttttltttgttttvht']\n\nValid\n[('1', '3'), 'q', 'cqbm']\n[('15', '16'), 'h', 'hhhhhhhhhhhhhhbsh']\n[('4', '16'), 'x', 'xvbxswpnvxtnfjrxxx']\n[('17', '18'), 'h', 'hhhvhhhhhhhhhhhhhh']\n[('1', '7'), 'w', 'twftdrb']\n"
     ]
    }
   ],
   "source": [
    "\"\"\" Show some corrupt and valid password examples \"\"\"\n",
    "print('Corrupt')\n",
    "for pw in corrupt_passwords[:5]:\n",
    "    print(pw)\n",
    "\n",
    "print('\\nValid')\n",
    "for pw in valid_passwords[:5]:\n",
    "    print(pw)"
   ]
  },
  {
   "cell_type": "code",
   "execution_count": 4,
   "metadata": {},
   "outputs": [
    {
     "output_type": "stream",
     "name": "stdout",
     "text": [
      "500\n"
     ]
    }
   ],
   "source": [
    "\"\"\" Answer the question: How many passwords are valid according to their policies? \"\"\"\n",
    "answer = len(valid_passwords)\n",
    "print(answer)"
   ]
  },
  {
   "source": [
    "# Part 2\n",
    "Each policy actually describes two positions in the password, where 1 means the first character, 2 means the second character, and so on. \n",
    "\n",
    "> Be careful; Toboggan Corporate Policies have no concept of \"index zero\"!\n",
    "\n",
    "Exactly one of these positions must contain the given letter. Other occurrences of the letter are irrelevant for the purposes of policy enforcement.\n",
    "\n",
    "Given the same example list from above:\n",
    "\n",
    "* `1-3 a: abcde` is valid: position 1 contains a and position 3 does not.\n",
    "* `1-3 b: cdefg` is invalid: neither position 1 nor position 3 contains b.\n",
    "* `2-9 c: ccccccccc` is invalid: both position 2 and position 9 contain c.\n",
    "```\n",
    "How many passwords are valid according to the new interpretation of the policies?"
   ],
   "cell_type": "markdown",
   "metadata": {}
  },
  {
   "cell_type": "code",
   "execution_count": 5,
   "metadata": {},
   "outputs": [],
   "source": [
    "\"\"\" Find valid and corrupt passwords using positions \"\"\"\n",
    "valid_passwords = []\n",
    "corrupt_passwords = []\n",
    "\n",
    "for entry in df.iloc:\n",
    "    # preprocessing\n",
    "    pos_1, pos_2 = entry.get('Policy').split('-')\n",
    "    symbol = entry.get('Symbol')[0]\n",
    "    password = entry.get('Password')\n",
    "    processed_entry = [(pos_1, pos_2), symbol, password]\n",
    "\n",
    "    # separate valid and corrupt passwords\n",
    "    pw_pos_1 = password[int(pos_1) - 1]\n",
    "    pw_pos_2 = password[int(pos_2) - 1]\n",
    "\n",
    "    if pw_pos_1 == symbol and pw_pos_2 == symbol:\n",
    "        # corrupt: only one position can match the symbol\n",
    "        corrupt_passwords.append(processed_entry)\n",
    "\n",
    "    elif pw_pos_1 == symbol or pw_pos_2 == symbol:\n",
    "        # valid: one position matches the symbol\n",
    "        valid_passwords.append(processed_entry)\n",
    "    else:\n",
    "        # corrupt: neither position matches the symbol\n",
    "        corrupt_passwords.append(processed_entry)"
   ]
  },
  {
   "cell_type": "code",
   "execution_count": 6,
   "metadata": {
    "tags": []
   },
   "outputs": [
    {
     "output_type": "stream",
     "name": "stdout",
     "text": [
      "Corrupt\n[('1', '3'), 'q', 'cqbm']\n[('15', '16'), 'h', 'hhhhhhhhhhhhhhbsh']\n[('4', '16'), 'x', 'xvbxswpnvxtnfjrxxx']\n[('6', '7'), 'v', 'kbbvnswp']\n[('17', '18'), 'h', 'hhhvhhhhhhhhhhhhhh']\n\nValid\n[('4', '5'), 't', 'wcjtfpt']\n[('3', '10'), 'x', 'xfxxxxxxxv']\n[('13', '14'), 't', 'ttttltttgttttvht']\n[('3', '13'), 'b', 'bbbbbgbbbbbkkbvd']\n[('7', '10'), 'd', 'ndddwdmdddhddv']\n"
     ]
    }
   ],
   "source": [
    "\"\"\" Show some corrupt and valid password examples \"\"\"\n",
    "print('Corrupt')\n",
    "for pw in corrupt_passwords[:5]:\n",
    "    print(pw)\n",
    "\n",
    "print('\\nValid')\n",
    "for pw in valid_passwords[:5]:\n",
    "    print(pw)"
   ]
  },
  {
   "cell_type": "code",
   "execution_count": 7,
   "metadata": {},
   "outputs": [
    {
     "output_type": "stream",
     "name": "stdout",
     "text": [
      "313\n"
     ]
    }
   ],
   "source": [
    "\"\"\" Answer the question: How many passwords are valid according to the new interpretation of the policies? \"\"\"\n",
    "answer = len(valid_passwords)\n",
    "print(answer)"
   ]
  }
 ]
}