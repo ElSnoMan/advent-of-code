{
 "metadata": {
  "language_info": {
   "codemirror_mode": {
    "name": "ipython",
    "version": 3
   },
   "file_extension": ".py",
   "mimetype": "text/x-python",
   "name": "python",
   "nbconvert_exporter": "python",
   "pygments_lexer": "ipython3",
   "version": "3.8.6-final"
  },
  "orig_nbformat": 2,
  "kernelspec": {
   "name": "python3",
   "display_name": "Python 3"
  }
 },
 "nbformat": 4,
 "nbformat_minor": 2,
 "cells": [
  {
   "source": [
    "# Day 1 Challenge\n",
    "\n",
    "Find the two entries that sum to `2020` and then multiply those two numbers together.\n",
    "\n",
    "For example, suppose your expense report contained the following:\n",
    "```\n",
    "1721\n",
    "979\n",
    "366\n",
    "299\n",
    "675\n",
    "1456\n",
    "```\n",
    "\n",
    "## Part 1\n",
    "---\n",
    "In this list, the two entries that sum to 2020 are 1721 and 299. Multiplying them together produces `1721 * 299 = 514579`, so the correct answer to submit is `514579`.\n",
    "\n",
    "Of course, your expense report is much larger. Find the two entries that sum to 2020; what do you get if you multiply them together?\n",
    "\n",
    "## Part 2\n",
    "---\n",
    "Use the same list to find 3 addends that sum up to 2020, and then submit their product"
   ],
   "cell_type": "markdown",
   "metadata": {}
  },
  {
   "cell_type": "code",
   "execution_count": 1,
   "metadata": {},
   "outputs": [],
   "source": [
    "\"\"\" Load the data \"\"\"\n",
    "import pandas as pd\n",
    "\n",
    "data = pd.read_table('expense_report.txt')"
   ]
  },
  {
   "cell_type": "code",
   "execution_count": 2,
   "metadata": {},
   "outputs": [
    {
     "output_type": "stream",
     "name": "stdout",
     "text": [
      "Number of entries: 199\n"
     ]
    }
   ],
   "source": [
    "\"\"\" Sort the data and explore it a bit \"\"\"\n",
    "df = data.sort_values(by=data.columns[0])\n",
    "count = len(df.values)\n",
    "print('Number of entries:', count)"
   ]
  },
  {
   "cell_type": "code",
   "execution_count": 3,
   "metadata": {},
   "outputs": [
    {
     "output_type": "execute_result",
     "data": {
      "text/plain": [
       "     1895\n",
       "62     76\n",
       "159   143\n",
       "165   167\n",
       "4     367\n",
       "71    418"
      ],
      "text/html": "<div>\n<style scoped>\n    .dataframe tbody tr th:only-of-type {\n        vertical-align: middle;\n    }\n\n    .dataframe tbody tr th {\n        vertical-align: top;\n    }\n\n    .dataframe thead th {\n        text-align: right;\n    }\n</style>\n<table border=\"1\" class=\"dataframe\">\n  <thead>\n    <tr style=\"text-align: right;\">\n      <th></th>\n      <th>1895</th>\n    </tr>\n  </thead>\n  <tbody>\n    <tr>\n      <th>62</th>\n      <td>76</td>\n    </tr>\n    <tr>\n      <th>159</th>\n      <td>143</td>\n    </tr>\n    <tr>\n      <th>165</th>\n      <td>167</td>\n    </tr>\n    <tr>\n      <th>4</th>\n      <td>367</td>\n    </tr>\n    <tr>\n      <th>71</th>\n      <td>418</td>\n    </tr>\n  </tbody>\n</table>\n</div>"
     },
     "metadata": {},
     "execution_count": 3
    }
   ],
   "source": [
    "df.head()"
   ]
  },
  {
   "cell_type": "code",
   "execution_count": 4,
   "metadata": {},
   "outputs": [
    {
     "output_type": "execute_result",
     "data": {
      "text/plain": [
       "     1895\n",
       "190  2006\n",
       "150  2007\n",
       "192  2008\n",
       "75   2009\n",
       "5    2010"
      ],
      "text/html": "<div>\n<style scoped>\n    .dataframe tbody tr th:only-of-type {\n        vertical-align: middle;\n    }\n\n    .dataframe tbody tr th {\n        vertical-align: top;\n    }\n\n    .dataframe thead th {\n        text-align: right;\n    }\n</style>\n<table border=\"1\" class=\"dataframe\">\n  <thead>\n    <tr style=\"text-align: right;\">\n      <th></th>\n      <th>1895</th>\n    </tr>\n  </thead>\n  <tbody>\n    <tr>\n      <th>190</th>\n      <td>2006</td>\n    </tr>\n    <tr>\n      <th>150</th>\n      <td>2007</td>\n    </tr>\n    <tr>\n      <th>192</th>\n      <td>2008</td>\n    </tr>\n    <tr>\n      <th>75</th>\n      <td>2009</td>\n    </tr>\n    <tr>\n      <th>5</th>\n      <td>2010</td>\n    </tr>\n  </tbody>\n</table>\n</div>"
     },
     "metadata": {},
     "execution_count": 4
    }
   ],
   "source": [
    "df.tail()"
   ]
  },
  {
   "cell_type": "code",
   "execution_count": 5,
   "metadata": {},
   "outputs": [
    {
     "output_type": "stream",
     "name": "stdout",
     "text": [
      "Addend  ->  [829]\nAddend  ->  [1191]\n"
     ]
    }
   ],
   "source": [
    "\"\"\" Find the two addends that make 2020 \"\"\"\n",
    "GOAL = 2020\n",
    "HALF = round(count / 2)\n",
    "\n",
    "for i, value in enumerate(df.values[:HALF]):\n",
    "    diff = GOAL - value\n",
    "    if diff in df.values[i + 1:]:\n",
    "        addend_1 = value\n",
    "        addend_2 = diff\n",
    "\n",
    "print('Addend  -> ', addend_1)\n",
    "print('Addend  -> ', addend_2)\n",
    "\n",
    "# Expected\n",
    "# [829]\n",
    "# [1191]"
   ]
  },
  {
   "cell_type": "code",
   "execution_count": 6,
   "metadata": {},
   "outputs": [
    {
     "output_type": "stream",
     "name": "stdout",
     "text": [
      "[987339]\n"
     ]
    }
   ],
   "source": [
    "\"\"\" Get the product of the addends which is the answer to the challenge \"\"\"\n",
    "answer = addend_1 * addend_2\n",
    "print(answer)\n",
    "\n",
    "# Expected\n",
    "# [987339]"
   ]
  },
  {
   "cell_type": "code",
   "execution_count": 7,
   "metadata": {
    "tags": []
   },
   "outputs": [
    {
     "output_type": "stream",
     "name": "stdout",
     "text": [
      "Addend  ->  [945]\nAddend  ->  [418]\nAddend  ->  [657]\n"
     ]
    }
   ],
   "source": [
    "\"\"\" Find the three addends that make 2020 \"\"\"\n",
    "GOAL = 2020\n",
    "HALF = round(count / 2)\n",
    "\n",
    "addend_1 = 0\n",
    "addend_2 = 0\n",
    "addend_3 = 0\n",
    "\n",
    "for low in df.values[:HALF]:\n",
    "    for i in range(len(df.values)):\n",
    "        high = df.values[-1-i]\n",
    "        if high + low > GOAL:\n",
    "            continue # to save lookup\n",
    "        diff = GOAL - high - low\n",
    "        if diff in df.values:\n",
    "            addend_1 = low\n",
    "            addend_2 = high\n",
    "            addend_3 = diff\n",
    "\n",
    "print('Addend  -> ', addend_1)\n",
    "print('Addend  -> ', addend_2)\n",
    "print('Addend  -> ', addend_3)\n",
    "\n",
    "# Expected\n",
    "# [418]\n",
    "# [657]\n",
    "# [945]"
   ]
  },
  {
   "cell_type": "code",
   "execution_count": 8,
   "metadata": {},
   "outputs": [
    {
     "output_type": "stream",
     "name": "stdout",
     "text": [
      "[259521570]\n"
     ]
    }
   ],
   "source": [
    "\"\"\" Get the product of the addends which is the answer to the challenge \"\"\"\n",
    "answer = addend_1 * addend_2 * addend_3\n",
    "print(answer)\n",
    "\n",
    "# Expected\n",
    "# [259521570]"
   ]
  },
  {
   "cell_type": "code",
   "execution_count": null,
   "metadata": {},
   "outputs": [],
   "source": []
  }
 ]
}