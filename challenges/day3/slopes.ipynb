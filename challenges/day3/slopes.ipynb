{
 "metadata": {
  "language_info": {
   "codemirror_mode": {
    "name": "ipython",
    "version": 3
   },
   "file_extension": ".py",
   "mimetype": "text/x-python",
   "name": "python",
   "nbconvert_exporter": "python",
   "pygments_lexer": "ipython3",
   "version": "3.8.6-final"
  },
  "orig_nbformat": 2,
  "kernelspec": {
   "name": "python3",
   "display_name": "Python 3"
  }
 },
 "nbformat": 4,
 "nbformat_minor": 2,
 "cells": [
  {
   "source": [
    "# Day 3 Challenge\n",
    "\n",
    "This is a big one, so just go to this link for the challenge\n",
    "https://adventofcode.com/2020/day/3"
   ],
   "cell_type": "markdown",
   "metadata": {}
  },
  {
   "cell_type": "code",
   "execution_count": 1,
   "metadata": {},
   "outputs": [],
   "source": [
    "\"\"\" Load the data \"\"\"\n",
    "with open('slope.txt', 'r') as file:\n",
    "    slope = [line.strip('\\n') for line in file.readlines()]"
   ]
  },
  {
   "cell_type": "code",
   "execution_count": 2,
   "metadata": {},
   "outputs": [],
   "source": [
    "def find_trees(slope, right, down) -> int:\n",
    "    x, y = right, down\n",
    "    trees  = 0\n",
    "    width  = len(slope[0])\n",
    "    height = len(slope)\n",
    "\n",
    "    while y < height:\n",
    "        trees += slope[y][x % width] == '#'\n",
    "        x += right\n",
    "        y += down\n",
    "    \n",
    "    return trees"
   ]
  },
  {
   "cell_type": "code",
   "execution_count": 3,
   "metadata": {},
   "outputs": [
    {
     "output_type": "stream",
     "name": "stdout",
     "text": [
      "232\n"
     ]
    }
   ],
   "source": [
    "print(find_trees(slope, 3, 1))"
   ]
  },
  {
   "source": [
    "# Part 2\n",
    "\n",
    "Time to check the rest of the slopes - you need to minimize the probability of a sudden arboreal stop, after all.\n",
    "\n",
    "Determine the number of trees you would encounter if, for each of the following slopes, you start at the top-left corner and traverse the map all the way to the bottom:\n",
    "```\n",
    "Right 1, down 1.\n",
    "Right 3, down 1. (This is the slope you already checked.)\n",
    "Right 5, down 1.\n",
    "Right 7, down 1.\n",
    "Right 1, down 2.\n",
    "```\n",
    "In the above example, these slopes would find 2, 7, 3, 4, and 2 tree(s) respectively; multiplied together, these produce the answer 336.\n",
    "\n",
    "What do you get if you multiply together the number of trees encountered on each of the listed slopes?"
   ],
   "cell_type": "markdown",
   "metadata": {}
  },
  {
   "cell_type": "code",
   "execution_count": 4,
   "metadata": {},
   "outputs": [
    {
     "output_type": "stream",
     "name": "stdout",
     "text": [
      "3952291680\n"
     ]
    }
   ],
   "source": [
    "from math import prod\n",
    "\n",
    "scenarios = [\n",
    "    (1, 1),\n",
    "    (3, 1),\n",
    "    (5, 1),\n",
    "    (7, 1),\n",
    "    (1, 2)\n",
    "]\n",
    "\n",
    "totals = [find_trees(slope, *s) for s in scenarios]\n",
    "answer = prod(totals)\n",
    "\n",
    "print(answer)"
   ]
  }
 ]
}