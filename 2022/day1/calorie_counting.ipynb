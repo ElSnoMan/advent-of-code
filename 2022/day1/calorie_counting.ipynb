{
 "cells": [
  {
   "cell_type": "markdown",
   "metadata": {},
   "source": [
    "# Day 1\n",
    "\n",
    "https://adventofcode.com/2022/day/1"
   ]
  },
  {
   "cell_type": "code",
   "execution_count": 1,
   "metadata": {},
   "outputs": [],
   "source": [
    "\"\"\" Imports and setup \"\"\"\n",
    "\n",
    "from typing import Dict, List"
   ]
  },
  {
   "cell_type": "code",
   "execution_count": 2,
   "metadata": {},
   "outputs": [
    {
     "data": {
      "text/plain": [
       "['1000\\n',\n",
       " '2000\\n',\n",
       " '3000\\n',\n",
       " '\\n',\n",
       " '4000\\n',\n",
       " '\\n',\n",
       " '5000\\n',\n",
       " '6000\\n',\n",
       " '\\n',\n",
       " '7000\\n',\n",
       " '8000\\n',\n",
       " '9000\\n',\n",
       " '\\n',\n",
       " '10000\\n']"
      ]
     },
     "execution_count": 2,
     "metadata": {},
     "output_type": "execute_result"
    }
   ],
   "source": [
    "\"\"\" Explore the dataset \"\"\"\n",
    "\n",
    "with open(\"calorie_counting_sample.txt\", \"r\") as file:\n",
    "    contents = file.readlines()\n",
    "\n",
    "contents"
   ]
  },
  {
   "cell_type": "code",
   "execution_count": 3,
   "metadata": {},
   "outputs": [],
   "source": [
    "\"\"\" Parse the dataset into a format we can use. In this case, a dictionary representing each Elf. \"\"\"\n",
    "\n",
    "def read_item_calories_to_elves(file_path: str) -> Dict[int, List]:\n",
    "    with open(file_path, \"r\") as file:\n",
    "        contents = file.readlines()\n",
    "\n",
    "    elf_id = 1\n",
    "    elves = {1: []}\n",
    "\n",
    "    for line in contents:\n",
    "        if line == \"\\n\":\n",
    "            elf_id += 1\n",
    "            elves[elf_id] = []\n",
    "            continue\n",
    "\n",
    "        item_calories = int(line.removesuffix(\"\\n\"))\n",
    "        elves[elf_id].append(item_calories)\n",
    "    return elves"
   ]
  },
  {
   "cell_type": "code",
   "execution_count": 4,
   "metadata": {},
   "outputs": [
    {
     "data": {
      "text/plain": [
       "{1: [1000, 2000, 3000],\n",
       " 2: [4000],\n",
       " 3: [5000, 6000],\n",
       " 4: [7000, 8000, 9000],\n",
       " 5: [10000]}"
      ]
     },
     "execution_count": 4,
     "metadata": {},
     "output_type": "execute_result"
    }
   ],
   "source": [
    "elves = read_item_calories_to_elves(\"calorie_counting_sample.txt\")\n",
    "elves"
   ]
  },
  {
   "cell_type": "markdown",
   "metadata": {},
   "source": [
    "## Challenge 1\n",
    "\n",
    "Find the Elf carrying the most calories. How many total calories is that Elf carrying?"
   ]
  },
  {
   "cell_type": "code",
   "execution_count": 5,
   "metadata": {},
   "outputs": [
    {
     "data": {
      "text/plain": [
       "24000"
      ]
     },
     "execution_count": 5,
     "metadata": {},
     "output_type": "execute_result"
    }
   ],
   "source": [
    "\"\"\" In our sample dataset, elf_id 4 has the most calories with 24,000 \"\"\"\n",
    "\n",
    "calorie_totals = [sum(val) for val in elves.values()]\n",
    "max(calorie_totals)"
   ]
  },
  {
   "cell_type": "code",
   "execution_count": 6,
   "metadata": {},
   "outputs": [
    {
     "data": {
      "text/plain": [
       "72240"
      ]
     },
     "execution_count": 6,
     "metadata": {},
     "output_type": "execute_result"
    }
   ],
   "source": [
    "\"\"\" Now solve Challenge 1 with the 'real' input dataset \"\"\"\n",
    "\n",
    "elves = read_item_calories_to_elves(\"calorie_counting_input.txt\")\n",
    "calorie_totals = [sum(val) for val in elves.values()]\n",
    "max(calorie_totals)"
   ]
  },
  {
   "cell_type": "markdown",
   "metadata": {},
   "source": [
    "## Challenge 2\n",
    "\n",
    "Find the top 3 elves with the most calories. How many total calories are they carrying?"
   ]
  },
  {
   "cell_type": "code",
   "execution_count": 7,
   "metadata": {},
   "outputs": [
    {
     "data": {
      "text/plain": [
       "[72240, 69625, 69092]"
      ]
     },
     "execution_count": 7,
     "metadata": {},
     "output_type": "execute_result"
    }
   ],
   "source": [
    "\"\"\" We already have the calorie_totals and don't care about their respective elf_ids. Just sort and take the top 3 \"\"\"\n",
    "\n",
    "sorted(calorie_totals, reverse=True)[:3]"
   ]
  },
  {
   "cell_type": "code",
   "execution_count": 8,
   "metadata": {},
   "outputs": [
    {
     "data": {
      "text/plain": [
       "210957"
      ]
     },
     "execution_count": 8,
     "metadata": {},
     "output_type": "execute_result"
    }
   ],
   "source": [
    "\"\"\" Get their sum like we did before and we're done \"\"\"\n",
    "\n",
    "sum(sorted(calorie_totals, reverse=True)[:3])"
   ]
  }
 ],
 "metadata": {
  "kernelspec": {
   "display_name": "Python 3.10.0 ('advent-of-code-WLRwQ8qb-py3.10')",
   "language": "python",
   "name": "python3"
  },
  "language_info": {
   "codemirror_mode": {
    "name": "ipython",
    "version": 3
   },
   "file_extension": ".py",
   "mimetype": "text/x-python",
   "name": "python",
   "nbconvert_exporter": "python",
   "pygments_lexer": "ipython3",
   "version": "3.10.0"
  },
  "orig_nbformat": 4,
  "vscode": {
   "interpreter": {
    "hash": "34403d292a9b2754dfe5b870d6db4b182f933a0e6ce7ddfe4cf347e29283fd48"
   }
  }
 },
 "nbformat": 4,
 "nbformat_minor": 2
}
