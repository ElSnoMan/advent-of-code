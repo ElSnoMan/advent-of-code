{
 "cells": [
  {
   "cell_type": "markdown",
   "metadata": {},
   "source": [
    "# Day 2\n",
    "\n",
    "https://adventofcode.com/2022/day/2"
   ]
  },
  {
   "cell_type": "code",
   "execution_count": 1,
   "metadata": {},
   "outputs": [],
   "source": [
    "\"\"\" Imports and setup \"\"\"\n",
    "\n",
    "from typing import List, Tuple\n",
    "\n",
    "\n",
    "def read_file(filename: str) -> List[str]:\n",
    "    with open(filename) as file:\n",
    "        rows = [line.removesuffix(\"\\n\") for line in file.readlines()]\n",
    "    return rows"
   ]
  },
  {
   "cell_type": "code",
   "execution_count": 2,
   "metadata": {},
   "outputs": [
    {
     "data": {
      "text/plain": [
       "['A Y', 'B X', 'C Z']"
      ]
     },
     "execution_count": 2,
     "metadata": {},
     "output_type": "execute_result"
    }
   ],
   "source": [
    "\"\"\" Explore the dataset \"\"\"\n",
    "\n",
    "read_file(\"rps_sample.txt\")"
   ]
  },
  {
   "cell_type": "code",
   "execution_count": 3,
   "metadata": {},
   "outputs": [],
   "source": [
    "\"\"\" Define our understanding of the challenge (rules, steps, etc.) \"\"\"\n",
    "\n",
    "opp_moveset = {\n",
    "    \"A\": 1, # Rock\n",
    "    \"B\": 2, # Paper\n",
    "    \"C\": 3, # Scissors\n",
    "}\n",
    "\n",
    "my_moveset = {\n",
    "    \"X\": 1, # Rock\n",
    "    \"Y\": 2, # Paper\n",
    "    \"Z\": 3, # Scissors\n",
    "}\n",
    "\n",
    "\n",
    "def points_for_round(opp_move: str, my_move: str) -> Tuple[int, int]:\n",
    "    \"\"\" Assign points to players for the current round.\n",
    "\n",
    "    Players receive points each round. The number of points depends on their move and result.\n",
    "    \n",
    "    Move Points:\n",
    "        Rock = 1\n",
    "        Paper = 2\n",
    "        Scissors = 3\n",
    "    \n",
    "    Result Points:\n",
    "        Lose = 0\n",
    "        Draw = 3\n",
    "        Win = 6\n",
    "    \"\"\"\n",
    "    opp = opp_moveset[opp_move]\n",
    "    me = my_moveset[my_move]\n",
    "\n",
    "    if opp - me == 0: # Any Draw\n",
    "        return opp + 3, me + 3\n",
    "    \n",
    "    if opp - me == -1: # <Rock vs Paper> or <Paper vs Scissors>\n",
    "        return opp, me + 6\n",
    "    \n",
    "    if opp - me == -2: # <Rock vs Scissors>\n",
    "        return opp + 6, me\n",
    "    \n",
    "    if opp - me == 1: # <Paper vs Rock> or <Scissors vs Paper>\n",
    "        return opp + 6, me\n",
    "    \n",
    "    if opp - me == 2: # <Scissors vs Rock>\n",
    "        return opp, me + 6\n",
    " "
   ]
  },
  {
   "cell_type": "code",
   "execution_count": 4,
   "metadata": {},
   "outputs": [
    {
     "data": {
      "text/plain": [
       "15"
      ]
     },
     "execution_count": 4,
     "metadata": {},
     "output_type": "execute_result"
    }
   ],
   "source": [
    "\"\"\" Test out our solution with the sample dataset.\n",
    "\n",
    "Given rps_sample.txt, our total points for the match should be 15:\n",
    "\n",
    "Round 1: 8\n",
    "Round 2: 1\n",
    "Round 3: 5\n",
    "-----------\n",
    "Total: 15\n",
    "\"\"\"\n",
    "\n",
    "my_total_score = 0\n",
    "\n",
    "for round in read_file(\"rps_sample.txt\"):\n",
    "    opp_move, my_move = round.split()\n",
    "    opp_score, my_score = points_for_round(opp_move, my_move)\n",
    "    my_total_score += my_score\n",
    "\n",
    "my_total_score\n"
   ]
  },
  {
   "cell_type": "markdown",
   "metadata": {},
   "source": [
    "## Challenge 1\n",
    "---\n",
    "\n",
    "We can improve and optimize our solution now that we've tested our understanding and logic. For example, there is probably an algorithm we can use that's better than our many `if` statements!\n",
    "\n",
    "But, I'm lazy and ready to move to the second challenge 😅"
   ]
  },
  {
   "cell_type": "code",
   "execution_count": 5,
   "metadata": {},
   "outputs": [
    {
     "data": {
      "text/plain": [
       "14297"
      ]
     },
     "execution_count": 5,
     "metadata": {},
     "output_type": "execute_result"
    }
   ],
   "source": [
    "answer = 0\n",
    "\n",
    "for round in read_file(\"rps_input.txt\"):\n",
    "    opp_move, my_move = round.split()\n",
    "    opp_score, my_score = points_for_round(opp_move, my_move)\n",
    "    answer += my_score\n",
    "    \n",
    "answer"
   ]
  },
  {
   "cell_type": "markdown",
   "metadata": {},
   "source": [
    "## Challenge 2\n",
    "---\n",
    "\n",
    "We learn what the _each column_ in the `input` really means, so we have to change our solution a bit!\n",
    "\n",
    "- `X`: You need to Lose\n",
    "- `Y`: You need to Draw\n",
    "- `Z`: You need to Win"
   ]
  },
  {
   "cell_type": "code",
   "execution_count": 6,
   "metadata": {},
   "outputs": [],
   "source": [
    "\"\"\" Define the moveset pairs to make our logic simpler \"\"\"\n",
    "\n",
    "i_lose = {\n",
    "    \"A\": \"Z\",\n",
    "    \"B\": \"X\",\n",
    "    \"C\": \"Y\"\n",
    "}\n",
    "\n",
    "i_draw = {\n",
    "    \"A\": \"X\",\n",
    "    \"B\": \"Y\",\n",
    "    \"C\": \"Z\"\n",
    "}\n",
    "\n",
    "i_win = {\n",
    "    \"A\": \"Y\",\n",
    "    \"B\": \"Z\",\n",
    "    \"C\": \"X\"\n",
    "}"
   ]
  },
  {
   "cell_type": "code",
   "execution_count": 7,
   "metadata": {},
   "outputs": [],
   "source": [
    "def pick_a_move(opp_move: str, outcome_needed: str) -> str:\n",
    "    if outcome_needed == \"X\":\n",
    "        return i_lose[opp_move]\n",
    "    \n",
    "    if outcome_needed == \"Y\":\n",
    "        return i_draw[opp_move]\n",
    "    \n",
    "    if outcome_needed == \"Z\":\n",
    "        return i_win[opp_move]\n",
    "    \n",
    "    raise ValueError(\"outcome_needed is not a valid value\")"
   ]
  },
  {
   "cell_type": "code",
   "execution_count": 8,
   "metadata": {},
   "outputs": [
    {
     "data": {
      "text/plain": [
       "12"
      ]
     },
     "execution_count": 8,
     "metadata": {},
     "output_type": "execute_result"
    }
   ],
   "source": [
    "\"\"\" Test our solution!\n",
    "\n",
    "Given rps_sample.txt, our total points for the match should be 12:\n",
    "\n",
    "Round 1: 4\n",
    "Round 2: 1\n",
    "Round 3: 7\n",
    "-----------\n",
    "Total: 12\n",
    "\"\"\"\n",
    "\n",
    "my_total_score = 0\n",
    "\n",
    "for round in read_file(\"rps_sample.txt\"):\n",
    "    opp_move, outcome_needed = round.split()\n",
    "    my_move = pick_a_move(opp_move, outcome_needed)\n",
    "    opp_score, my_score = points_for_round(opp_move, my_move)\n",
    "    my_total_score += my_score\n",
    "\n",
    "my_total_score"
   ]
  },
  {
   "cell_type": "code",
   "execution_count": 9,
   "metadata": {},
   "outputs": [
    {
     "data": {
      "text/plain": [
       "10498"
      ]
     },
     "execution_count": 9,
     "metadata": {},
     "output_type": "execute_result"
    }
   ],
   "source": [
    "\"\"\" Solve the Challenge \"\"\"\n",
    "\n",
    "answer = 0\n",
    "\n",
    "for round in read_file(\"rps_input.txt\"):\n",
    "    opp_move, outcome_needed = round.split()\n",
    "    my_move = pick_a_move(opp_move, outcome_needed)\n",
    "    opp_score, my_score = points_for_round(opp_move, my_move)\n",
    "    answer += my_score\n",
    "\n",
    "answer\n"
   ]
  }
 ],
 "metadata": {
  "kernelspec": {
   "display_name": "Python 3.10.0 ('advent-of-code-WLRwQ8qb-py3.10')",
   "language": "python",
   "name": "python3"
  },
  "language_info": {
   "codemirror_mode": {
    "name": "ipython",
    "version": 3
   },
   "file_extension": ".py",
   "mimetype": "text/x-python",
   "name": "python",
   "nbconvert_exporter": "python",
   "pygments_lexer": "ipython3",
   "version": "3.10.0"
  },
  "orig_nbformat": 4,
  "vscode": {
   "interpreter": {
    "hash": "34403d292a9b2754dfe5b870d6db4b182f933a0e6ce7ddfe4cf347e29283fd48"
   }
  }
 },
 "nbformat": 4,
 "nbformat_minor": 2
}
