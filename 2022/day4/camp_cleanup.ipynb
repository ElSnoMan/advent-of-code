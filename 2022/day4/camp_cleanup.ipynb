{
 "cells": [
  {
   "cell_type": "markdown",
   "metadata": {},
   "source": [
    "# Day 4\n",
    "\n",
    "https://adventofcode.com/2022/day/4"
   ]
  },
  {
   "cell_type": "code",
   "execution_count": 1,
   "metadata": {},
   "outputs": [],
   "source": [
    "\"\"\" Imports and Setup \"\"\"\n",
    "\n",
    "from typing import List\n",
    "\n",
    "def read_file(filename: str) -> List[str]:\n",
    "    with open(filename, \"r\") as file:\n",
    "        contents = [line.removesuffix(\"\\n\") for line in file.readlines()]\n",
    "    \n",
    "    return contents"
   ]
  },
  {
   "cell_type": "code",
   "execution_count": 2,
   "metadata": {},
   "outputs": [
    {
     "data": {
      "text/plain": [
       "['2-4,6-8', '2-3,4-5', '5-7,7-9', '2-8,3-7', '6-6,4-6', '2-6,4-8']"
      ]
     },
     "execution_count": 2,
     "metadata": {},
     "output_type": "execute_result"
    }
   ],
   "source": [
    "read_file(\"camp_cleanup_sample.txt\")"
   ]
  },
  {
   "cell_type": "code",
   "execution_count": 3,
   "metadata": {},
   "outputs": [],
   "source": [
    "\"\"\" I can compare the start and end of each pair. I'll parse each pair into a list of tuples\n",
    "\n",
    "FROM: \"2-4,6-8\"\n",
    "TO THIS:\n",
    "[\n",
    "    [(2, 4), (6, 8)],\n",
    "    [(...), (...)],\n",
    "    ...\n",
    "]\n",
    "\"\"\"\n",
    "\n",
    "def parse_rows_to_section_assignment_pairs(rows: List[str]) -> List:\n",
    "    section_assignment_pairs = []\n",
    "    for row in rows:\n",
    "        split = row.split(\",\")\n",
    "        pairs = [s.split(\"-\") for s in split]\n",
    "        ranges = [(int(p[0]), int(p[1])) for p in pairs]\n",
    "        section_assignment_pairs.append(ranges)\n",
    "\n",
    "    return section_assignment_pairs"
   ]
  },
  {
   "cell_type": "code",
   "execution_count": 4,
   "metadata": {},
   "outputs": [
    {
     "data": {
      "text/plain": [
       "[[(2, 4), (6, 8)],\n",
       " [(2, 3), (4, 5)],\n",
       " [(5, 7), (7, 9)],\n",
       " [(2, 8), (3, 7)],\n",
       " [(6, 6), (4, 6)],\n",
       " [(2, 6), (4, 8)]]"
      ]
     },
     "execution_count": 4,
     "metadata": {},
     "output_type": "execute_result"
    }
   ],
   "source": [
    "rows = read_file(\"camp_cleanup_sample.txt\")\n",
    "parse_rows_to_section_assignment_pairs(rows)"
   ]
  },
  {
   "cell_type": "markdown",
   "metadata": {},
   "source": [
    "## Challenge 1\n",
    "---\n",
    "\n",
    "In how many assignment pairs does one range fully contain the other?"
   ]
  },
  {
   "cell_type": "code",
   "execution_count": 5,
   "metadata": {},
   "outputs": [],
   "source": [
    "\"\"\"\n",
    "1. Sort each pair to find the section with the smallest starting point (note: a pair might have the same starting point)\n",
    "2. Compare the start and end of each range to see if there is an overlap\n",
    "\"\"\"\n",
    "\n",
    "def count_overlapping_pairs(section_assignment_pairs: List) -> int:\n",
    "    count = 0\n",
    "    for pair in section_assignment_pairs:\n",
    "        pair.sort(key=lambda x: x[0])\n",
    "        (start_1, end_1), (start_2, end_2) = pair\n",
    "\n",
    "        # Subset within bounds\n",
    "        if start_1 < start_2 and end_1 >= end_2:\n",
    "            count += 1\n",
    "    \n",
    "        # Same start will always be in bounds\n",
    "        if start_1 == start_2:\n",
    "            count += 1\n",
    "\n",
    "    return count\n",
    "    "
   ]
  },
  {
   "cell_type": "code",
   "execution_count": 6,
   "metadata": {},
   "outputs": [
    {
     "data": {
      "text/plain": [
       "2"
      ]
     },
     "execution_count": 6,
     "metadata": {},
     "output_type": "execute_result"
    }
   ],
   "source": [
    "\"\"\" The sample input has 2 overlapping pairs \"\"\"\n",
    "\n",
    "rows = read_file(\"camp_cleanup_sample.txt\")\n",
    "pairs = parse_rows_to_section_assignment_pairs(rows)\n",
    "count_overlapping_pairs(pairs)"
   ]
  },
  {
   "cell_type": "code",
   "execution_count": 7,
   "metadata": {},
   "outputs": [
    {
     "data": {
      "text/plain": [
       "509"
      ]
     },
     "execution_count": 7,
     "metadata": {},
     "output_type": "execute_result"
    }
   ],
   "source": [
    "\"\"\" Great! Now we can solve the challenge with the actual input \"\"\"\n",
    "\n",
    "rows = read_file(\"camp_cleanup_input.txt\")\n",
    "pairs = parse_rows_to_section_assignment_pairs(rows) \n",
    "count_overlapping_pairs(pairs)"
   ]
  },
  {
   "cell_type": "markdown",
   "metadata": {},
   "source": [
    "## Challenge 2\n",
    "---\n",
    "\n",
    "Now the elves care about all pairs that have _any_ overlap at all! I'll need to re-define my counting function"
   ]
  },
  {
   "cell_type": "code",
   "execution_count": 8,
   "metadata": {},
   "outputs": [],
   "source": [
    "\"\"\"\n",
    "1. Sort each pair to find the section with the smallest starting point (note: a pair might have the same starting point)\n",
    "2. Compare the start and end of each range to see if there is an overlap\n",
    "\"\"\"\n",
    "\n",
    "def count_overlapping_pairs(section_assignment_pairs: List) -> int:\n",
    "    count = 0\n",
    "    for pair in section_assignment_pairs:\n",
    "        pair.sort(key=lambda x: x[0])\n",
    "        (start_1, end_1), (start_2, end_2) = pair\n",
    "\n",
    "        # If start_2 within bounds, there's overlap\n",
    "        if start_2 >= start_1 and start_2 <= end_1:\n",
    "            count += 1\n",
    "            continue\n",
    "        \n",
    "        # If end_2 within bounds, there's overlap\n",
    "        if end_2 >= start_1 and end_2 <= end_1:\n",
    "            count += 1\n",
    "\n",
    "    return count"
   ]
  },
  {
   "cell_type": "code",
   "execution_count": 9,
   "metadata": {},
   "outputs": [
    {
     "data": {
      "text/plain": [
       "4"
      ]
     },
     "execution_count": 9,
     "metadata": {},
     "output_type": "execute_result"
    }
   ],
   "source": [
    "\"\"\" Test our solution using the sample dataset. There should be 4 overlapping pairs. \"\"\"\n",
    "\n",
    "rows = read_file(\"camp_cleanup_sample.txt\")\n",
    "pairs = parse_rows_to_section_assignment_pairs(rows) \n",
    "count_overlapping_pairs(pairs)"
   ]
  },
  {
   "cell_type": "code",
   "execution_count": 10,
   "metadata": {},
   "outputs": [
    {
     "data": {
      "text/plain": [
       "870"
      ]
     },
     "execution_count": 10,
     "metadata": {},
     "output_type": "execute_result"
    }
   ],
   "source": [
    "\"\"\" Excellent! Now we can solve Challenge 2 \"\"\"\n",
    "\n",
    "rows = read_file(\"camp_cleanup_input.txt\")\n",
    "pairs = parse_rows_to_section_assignment_pairs(rows) \n",
    "count_overlapping_pairs(pairs)"
   ]
  }
 ],
 "metadata": {
  "kernelspec": {
   "display_name": "Python 3.10.0 ('advent-of-code-WLRwQ8qb-py3.10')",
   "language": "python",
   "name": "python3"
  },
  "language_info": {
   "codemirror_mode": {
    "name": "ipython",
    "version": 3
   },
   "file_extension": ".py",
   "mimetype": "text/x-python",
   "name": "python",
   "nbconvert_exporter": "python",
   "pygments_lexer": "ipython3",
   "version": "3.10.0"
  },
  "orig_nbformat": 4,
  "vscode": {
   "interpreter": {
    "hash": "34403d292a9b2754dfe5b870d6db4b182f933a0e6ce7ddfe4cf347e29283fd48"
   }
  }
 },
 "nbformat": 4,
 "nbformat_minor": 2
}
