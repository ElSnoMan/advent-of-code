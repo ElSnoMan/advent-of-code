{
 "cells": [
  {
   "cell_type": "markdown",
   "metadata": {},
   "source": [
    "# Day 3\n",
    "\n",
    "https://adventofcode.com/2022/day/3"
   ]
  },
  {
   "cell_type": "code",
   "execution_count": 1,
   "metadata": {},
   "outputs": [],
   "source": [
    "\"\"\" Imports and Setup \"\"\"\n",
    "\n",
    "import string\n",
    "from typing import Dict, List, Tuple\n",
    "\n",
    "\n",
    "def read_file(filename: str) -> List[str]:\n",
    "    with open(filename) as file:\n",
    "        rucksacks = [line.removesuffix(\"\\n\") for line in file.readlines()]\n",
    "    return rucksacks\n"
   ]
  },
  {
   "cell_type": "code",
   "execution_count": 2,
   "metadata": {},
   "outputs": [
    {
     "data": {
      "text/plain": [
       "['vJrwpWtwJgWrhcsFMMfFFhFp',\n",
       " 'jqHRNqRjqzjGDLGLrsFMfFZSrLrFZsSL',\n",
       " 'PmmdzqPrVvPwwTWBwg',\n",
       " 'wMqvLMZHhHMvwLHjbvcjnnSBnvTQFn',\n",
       " 'ttgJtRGJQctTZtZT',\n",
       " 'CrZsJsPPZsGzwwsLwLmpwMDw']"
      ]
     },
     "execution_count": 2,
     "metadata": {},
     "output_type": "execute_result"
    }
   ],
   "source": [
    "\"\"\" Explore the dataset \"\"\"\n",
    "\n",
    "read_file(\"rucksack_sample.txt\")"
   ]
  },
  {
   "cell_type": "code",
   "execution_count": 3,
   "metadata": {},
   "outputs": [
    {
     "name": "stdout",
     "output_type": "stream",
     "text": [
      "Compartment 1: vJrwpWtwJgWr\n",
      "Compartment 2: hcsFMMfFFhFp\n"
     ]
    },
    {
     "data": {
      "text/plain": [
       "'p'"
      ]
     },
     "execution_count": 3,
     "metadata": {},
     "output_type": "execute_result"
    }
   ],
   "source": [
    "\"\"\" Get shared item type for each rucksack\n",
    "\n",
    "1. Separate rucksack into even compartments\n",
    "2. Find the item type that exists in both compartments\n",
    "\n",
    "In the below example, lowercase p is the shared item type between both compartments\n",
    "\"\"\"\n",
    "\n",
    "example = \"vJrwpWtwJgWrhcsFMMfFFhFp\"\n",
    "half = int(len(example) / 2) # we're assuming the length is always even right now\n",
    "comp_1, comp_2 = example[:half], example[half:]\n",
    "\n",
    "print(\"Compartment 1:\", comp_1)\n",
    "print(\"Compartment 2:\", comp_2)\n",
    "\n",
    "shared_item_type = None\n",
    "for char in comp_1:\n",
    "    if char in comp_2:\n",
    "        shared_item_type = char\n",
    "        break\n",
    "\n",
    "shared_item_type"
   ]
  },
  {
   "cell_type": "code",
   "execution_count": 4,
   "metadata": {},
   "outputs": [
    {
     "data": {
      "text/plain": [
       "16"
      ]
     },
     "execution_count": 4,
     "metadata": {},
     "output_type": "execute_result"
    }
   ],
   "source": [
    "\"\"\" Map the shared item type to it's priority value.\n",
    "\n",
    "a-z => 1-26\n",
    "A-Z => 27-52\n",
    "\n",
    "So, lowercase p => 16\n",
    "\"\"\"\n",
    "\n",
    "letters = list(string.ascii_letters)\n",
    "numbers = list(range(1, 53))\n",
    "PRIORITY_VALUES = dict(zip(letters, numbers))\n",
    "\n",
    "PRIORITY_VALUES[shared_item_type]"
   ]
  },
  {
   "cell_type": "markdown",
   "metadata": {},
   "source": [
    "## Challenge 1\n",
    "---\n",
    "\n",
    "Looks like we have all we need to solve the challenge which is to get the sum of all priorities 😄"
   ]
  },
  {
   "cell_type": "code",
   "execution_count": 5,
   "metadata": {},
   "outputs": [],
   "source": [
    "def split_rucksack_to_compartments(rucksack: str) -> Tuple[str, str]:\n",
    "    half = int(len(rucksack) / 2)\n",
    "    comp_1, comp_2 = rucksack[:half], rucksack[half:]\n",
    "    return comp_1, comp_2\n",
    "\n",
    "\n",
    "def get_shared_item_type(compartments) -> str:\n",
    "    comp_1, comp_2 = compartments\n",
    "\n",
    "    for char in comp_1:\n",
    "        if char in comp_2:\n",
    "            return char\n",
    "    return None\n",
    "\n",
    "\n",
    "def priority_values() -> Dict[str, int]:\n",
    "    letters = list(string.ascii_letters)\n",
    "    numbers = list(range(1, 53))\n",
    "    return dict(zip(letters, numbers))\n",
    "\n",
    "\n",
    "PRIORITY_VALUES = priority_values()\n",
    "    "
   ]
  },
  {
   "cell_type": "code",
   "execution_count": 6,
   "metadata": {},
   "outputs": [
    {
     "data": {
      "text/plain": [
       "7889"
      ]
     },
     "execution_count": 6,
     "metadata": {},
     "output_type": "execute_result"
    }
   ],
   "source": [
    "answer = 0\n",
    "rucksacks = read_file(\"rucksack_input.txt\")\n",
    "\n",
    "for sack in rucksacks:\n",
    "    compartments = split_rucksack_to_compartments(sack)\n",
    "    shared_item_type = get_shared_item_type(compartments)\n",
    "    answer += PRIORITY_VALUES[shared_item_type]\n",
    "\n",
    "answer"
   ]
  },
  {
   "cell_type": "markdown",
   "metadata": {},
   "source": [
    "## Challenge 2\n",
    "---\n",
    "\n",
    "We don't care about compartments anymore, but we are looking for the `shared item type` within each group of 3 rucksacks, _then_ finding the sum of all those priority values."
   ]
  },
  {
   "cell_type": "code",
   "execution_count": 7,
   "metadata": {},
   "outputs": [
    {
     "data": {
      "text/plain": [
       "['FJMWcfghprstvw',\n",
       " 'DFGHLMNRSZfjqrsz',\n",
       " 'BPTVWdgmqrvwz',\n",
       " 'BFHLMQSTZbchjnqvw',\n",
       " 'GJQRTZcgt',\n",
       " 'CDGJLMPZmprswz']"
      ]
     },
     "execution_count": 7,
     "metadata": {},
     "output_type": "execute_result"
    }
   ],
   "source": [
    "\"\"\" Change the shape of the data from our parser since we don't care about counts, orders, dupes, etc. \"\"\"\n",
    "\n",
    "def read_file(filename: str) -> List[str]:\n",
    "    with open(filename) as file:\n",
    "        rows = [line.removesuffix(\"\\n\") for line in file.readlines()]\n",
    "    \n",
    "    rucksacks = []\n",
    "    for r in rows:\n",
    "        sack = sorted(set(r))\n",
    "        rucksacks.append(\"\".join(sack))\n",
    "\n",
    "    return rucksacks\n",
    "\n",
    "read_file(\"rucksack_sample.txt\")"
   ]
  },
  {
   "cell_type": "code",
   "execution_count": 8,
   "metadata": {},
   "outputs": [
    {
     "data": {
      "text/plain": [
       "2825"
      ]
     },
     "execution_count": 8,
     "metadata": {},
     "output_type": "execute_result"
    }
   ],
   "source": [
    "\"\"\" Now find the sum of priorities given the shared type in each group.\n",
    "\n",
    "I'll use a \"moving window\" to iterate through each group of 3 rucksacks until there are no more groups.\n",
    "The sample input should return 70 -- it does!\n",
    "\"\"\"\n",
    "\n",
    "rucksacks = read_file(\"rucksack_input.txt\")\n",
    "sum_of_priorities = 0\n",
    "\n",
    "window = 0\n",
    "group = rucksacks[window:window + 3]\n",
    "\n",
    "while group:\n",
    "    for char in group[0]:\n",
    "        if char in group[1] and char in group[2]:\n",
    "            sum_of_priorities += PRIORITY_VALUES[char]\n",
    "    window += 3\n",
    "    group = rucksacks[window:window + 3]\n",
    "\n",
    "sum_of_priorities"
   ]
  }
 ],
 "metadata": {
  "kernelspec": {
   "display_name": "Python 3.10.0 ('advent-of-code-WLRwQ8qb-py3.10')",
   "language": "python",
   "name": "python3"
  },
  "language_info": {
   "codemirror_mode": {
    "name": "ipython",
    "version": 3
   },
   "file_extension": ".py",
   "mimetype": "text/x-python",
   "name": "python",
   "nbconvert_exporter": "python",
   "pygments_lexer": "ipython3",
   "version": "3.10.0"
  },
  "orig_nbformat": 4,
  "vscode": {
   "interpreter": {
    "hash": "34403d292a9b2754dfe5b870d6db4b182f933a0e6ce7ddfe4cf347e29283fd48"
   }
  }
 },
 "nbformat": 4,
 "nbformat_minor": 2
}
