{
 "cells": [
  {
   "cell_type": "markdown",
   "metadata": {},
   "source": [
    "# Part 1"
   ]
  },
  {
   "cell_type": "code",
   "execution_count": 1,
   "metadata": {},
   "outputs": [],
   "source": [
    "import pandas as pd\n",
    "import numpy as np\n",
    "from rich import print\n",
    "\n",
    "# use converters to preserve leading zeros\n",
    "data = pd.read_csv('diagnostic_report.txt', converters={0: lambda x: str(x)}, header=None)"
   ]
  },
  {
   "cell_type": "code",
   "execution_count": 2,
   "metadata": {},
   "outputs": [
    {
     "data": {
      "text/plain": [
       "0      000000011010\n",
       "1      011001111011\n",
       "2      100101011101\n",
       "3      000110000110\n",
       "4      101010001010\n",
       "           ...     \n",
       "995    100001001110\n",
       "996    111101100111\n",
       "997    111011111100\n",
       "998    000011011001\n",
       "999    000000100001\n",
       "Name: 0, Length: 1000, dtype: object"
      ]
     },
     "execution_count": 2,
     "metadata": {},
     "output_type": "execute_result"
    }
   ],
   "source": [
    "data[0]"
   ]
  },
  {
   "cell_type": "code",
   "execution_count": 3,
   "metadata": {},
   "outputs": [
    {
     "data": {
      "text/html": [
       "<div>\n",
       "<style scoped>\n",
       "    .dataframe tbody tr th:only-of-type {\n",
       "        vertical-align: middle;\n",
       "    }\n",
       "\n",
       "    .dataframe tbody tr th {\n",
       "        vertical-align: top;\n",
       "    }\n",
       "\n",
       "    .dataframe thead th {\n",
       "        text-align: right;\n",
       "    }\n",
       "</style>\n",
       "<table border=\"1\" class=\"dataframe\">\n",
       "  <thead>\n",
       "    <tr style=\"text-align: right;\">\n",
       "      <th></th>\n",
       "      <th>0</th>\n",
       "    </tr>\n",
       "  </thead>\n",
       "  <tbody>\n",
       "    <tr>\n",
       "      <th>count</th>\n",
       "      <td>1000</td>\n",
       "    </tr>\n",
       "    <tr>\n",
       "      <th>unique</th>\n",
       "      <td>1000</td>\n",
       "    </tr>\n",
       "    <tr>\n",
       "      <th>top</th>\n",
       "      <td>000000011010</td>\n",
       "    </tr>\n",
       "    <tr>\n",
       "      <th>freq</th>\n",
       "      <td>1</td>\n",
       "    </tr>\n",
       "  </tbody>\n",
       "</table>\n",
       "</div>"
      ],
      "text/plain": [
       "                   0\n",
       "count           1000\n",
       "unique          1000\n",
       "top     000000011010\n",
       "freq               1"
      ]
     },
     "execution_count": 3,
     "metadata": {},
     "output_type": "execute_result"
    }
   ],
   "source": [
    "data.describe()"
   ]
  },
  {
   "cell_type": "code",
   "execution_count": 4,
   "metadata": {},
   "outputs": [
    {
     "data": {
      "text/html": [
       "<div>\n",
       "<style scoped>\n",
       "    .dataframe tbody tr th:only-of-type {\n",
       "        vertical-align: middle;\n",
       "    }\n",
       "\n",
       "    .dataframe tbody tr th {\n",
       "        vertical-align: top;\n",
       "    }\n",
       "\n",
       "    .dataframe thead th {\n",
       "        text-align: right;\n",
       "    }\n",
       "</style>\n",
       "<table border=\"1\" class=\"dataframe\">\n",
       "  <thead>\n",
       "    <tr style=\"text-align: right;\">\n",
       "      <th></th>\n",
       "      <th>0</th>\n",
       "      <th>1</th>\n",
       "      <th>2</th>\n",
       "      <th>3</th>\n",
       "      <th>4</th>\n",
       "      <th>5</th>\n",
       "      <th>6</th>\n",
       "      <th>7</th>\n",
       "      <th>8</th>\n",
       "      <th>9</th>\n",
       "      <th>10</th>\n",
       "      <th>11</th>\n",
       "    </tr>\n",
       "  </thead>\n",
       "  <tbody>\n",
       "    <tr>\n",
       "      <th>0</th>\n",
       "      <td>0</td>\n",
       "      <td>0</td>\n",
       "      <td>0</td>\n",
       "      <td>0</td>\n",
       "      <td>0</td>\n",
       "      <td>0</td>\n",
       "      <td>0</td>\n",
       "      <td>1</td>\n",
       "      <td>1</td>\n",
       "      <td>0</td>\n",
       "      <td>1</td>\n",
       "      <td>0</td>\n",
       "    </tr>\n",
       "    <tr>\n",
       "      <th>1</th>\n",
       "      <td>0</td>\n",
       "      <td>1</td>\n",
       "      <td>1</td>\n",
       "      <td>0</td>\n",
       "      <td>0</td>\n",
       "      <td>1</td>\n",
       "      <td>1</td>\n",
       "      <td>1</td>\n",
       "      <td>1</td>\n",
       "      <td>0</td>\n",
       "      <td>1</td>\n",
       "      <td>1</td>\n",
       "    </tr>\n",
       "    <tr>\n",
       "      <th>2</th>\n",
       "      <td>1</td>\n",
       "      <td>0</td>\n",
       "      <td>0</td>\n",
       "      <td>1</td>\n",
       "      <td>0</td>\n",
       "      <td>1</td>\n",
       "      <td>0</td>\n",
       "      <td>1</td>\n",
       "      <td>1</td>\n",
       "      <td>1</td>\n",
       "      <td>0</td>\n",
       "      <td>1</td>\n",
       "    </tr>\n",
       "    <tr>\n",
       "      <th>3</th>\n",
       "      <td>0</td>\n",
       "      <td>0</td>\n",
       "      <td>0</td>\n",
       "      <td>1</td>\n",
       "      <td>1</td>\n",
       "      <td>0</td>\n",
       "      <td>0</td>\n",
       "      <td>0</td>\n",
       "      <td>0</td>\n",
       "      <td>1</td>\n",
       "      <td>1</td>\n",
       "      <td>0</td>\n",
       "    </tr>\n",
       "    <tr>\n",
       "      <th>4</th>\n",
       "      <td>1</td>\n",
       "      <td>0</td>\n",
       "      <td>1</td>\n",
       "      <td>0</td>\n",
       "      <td>1</td>\n",
       "      <td>0</td>\n",
       "      <td>0</td>\n",
       "      <td>0</td>\n",
       "      <td>1</td>\n",
       "      <td>0</td>\n",
       "      <td>1</td>\n",
       "      <td>0</td>\n",
       "    </tr>\n",
       "    <tr>\n",
       "      <th>...</th>\n",
       "      <td>...</td>\n",
       "      <td>...</td>\n",
       "      <td>...</td>\n",
       "      <td>...</td>\n",
       "      <td>...</td>\n",
       "      <td>...</td>\n",
       "      <td>...</td>\n",
       "      <td>...</td>\n",
       "      <td>...</td>\n",
       "      <td>...</td>\n",
       "      <td>...</td>\n",
       "      <td>...</td>\n",
       "    </tr>\n",
       "    <tr>\n",
       "      <th>995</th>\n",
       "      <td>1</td>\n",
       "      <td>0</td>\n",
       "      <td>0</td>\n",
       "      <td>0</td>\n",
       "      <td>0</td>\n",
       "      <td>1</td>\n",
       "      <td>0</td>\n",
       "      <td>0</td>\n",
       "      <td>1</td>\n",
       "      <td>1</td>\n",
       "      <td>1</td>\n",
       "      <td>0</td>\n",
       "    </tr>\n",
       "    <tr>\n",
       "      <th>996</th>\n",
       "      <td>1</td>\n",
       "      <td>1</td>\n",
       "      <td>1</td>\n",
       "      <td>1</td>\n",
       "      <td>0</td>\n",
       "      <td>1</td>\n",
       "      <td>1</td>\n",
       "      <td>0</td>\n",
       "      <td>0</td>\n",
       "      <td>1</td>\n",
       "      <td>1</td>\n",
       "      <td>1</td>\n",
       "    </tr>\n",
       "    <tr>\n",
       "      <th>997</th>\n",
       "      <td>1</td>\n",
       "      <td>1</td>\n",
       "      <td>1</td>\n",
       "      <td>0</td>\n",
       "      <td>1</td>\n",
       "      <td>1</td>\n",
       "      <td>1</td>\n",
       "      <td>1</td>\n",
       "      <td>1</td>\n",
       "      <td>1</td>\n",
       "      <td>0</td>\n",
       "      <td>0</td>\n",
       "    </tr>\n",
       "    <tr>\n",
       "      <th>998</th>\n",
       "      <td>0</td>\n",
       "      <td>0</td>\n",
       "      <td>0</td>\n",
       "      <td>0</td>\n",
       "      <td>1</td>\n",
       "      <td>1</td>\n",
       "      <td>0</td>\n",
       "      <td>1</td>\n",
       "      <td>1</td>\n",
       "      <td>0</td>\n",
       "      <td>0</td>\n",
       "      <td>1</td>\n",
       "    </tr>\n",
       "    <tr>\n",
       "      <th>999</th>\n",
       "      <td>0</td>\n",
       "      <td>0</td>\n",
       "      <td>0</td>\n",
       "      <td>0</td>\n",
       "      <td>0</td>\n",
       "      <td>0</td>\n",
       "      <td>1</td>\n",
       "      <td>0</td>\n",
       "      <td>0</td>\n",
       "      <td>0</td>\n",
       "      <td>0</td>\n",
       "      <td>1</td>\n",
       "    </tr>\n",
       "  </tbody>\n",
       "</table>\n",
       "<p>1000 rows × 12 columns</p>\n",
       "</div>"
      ],
      "text/plain": [
       "    0  1  2  3  4  5  6  7  8  9  10 11\n",
       "0    0  0  0  0  0  0  0  1  1  0  1  0\n",
       "1    0  1  1  0  0  1  1  1  1  0  1  1\n",
       "2    1  0  0  1  0  1  0  1  1  1  0  1\n",
       "3    0  0  0  1  1  0  0  0  0  1  1  0\n",
       "4    1  0  1  0  1  0  0  0  1  0  1  0\n",
       "..  .. .. .. .. .. .. .. .. .. .. .. ..\n",
       "995  1  0  0  0  0  1  0  0  1  1  1  0\n",
       "996  1  1  1  1  0  1  1  0  0  1  1  1\n",
       "997  1  1  1  0  1  1  1  1  1  1  0  0\n",
       "998  0  0  0  0  1  1  0  1  1  0  0  1\n",
       "999  0  0  0  0  0  0  1  0  0  0  0  1\n",
       "\n",
       "[1000 rows x 12 columns]"
      ]
     },
     "execution_count": 4,
     "metadata": {},
     "output_type": "execute_result"
    }
   ],
   "source": [
    "\"\"\" Split into a 12-column dataframe to make this easier. \"\"\"\n",
    "\n",
    "df = pd.DataFrame(data[0].map(lambda x: list(x)).tolist())\n",
    "df"
   ]
  },
  {
   "cell_type": "code",
   "execution_count": 5,
   "metadata": {},
   "outputs": [
    {
     "data": {
      "text/plain": [
       "1    519\n",
       "0    481\n",
       "Name: 0, dtype: int64"
      ]
     },
     "execution_count": 5,
     "metadata": {},
     "output_type": "execute_result"
    }
   ],
   "source": [
    "\"\"\" How many 1s versus 0s in the first column? \"\"\"\n",
    "\n",
    "df[0].value_counts()"
   ]
  },
  {
   "cell_type": "code",
   "execution_count": 6,
   "metadata": {},
   "outputs": [
    {
     "data": {
      "text/plain": [
       "'1'"
      ]
     },
     "execution_count": 6,
     "metadata": {},
     "output_type": "execute_result"
    }
   ],
   "source": [
    "\"\"\" We can get the most common value by using .idmax() \"\"\"\n",
    "\n",
    "df[0].value_counts().idxmax()"
   ]
  },
  {
   "cell_type": "code",
   "execution_count": 7,
   "metadata": {},
   "outputs": [
    {
     "data": {
      "text/html": [
       "<pre style=\"white-space:pre;overflow-x:auto;line-height:normal;font-family:Menlo,'DejaVu Sans Mono',consolas,'Courier New',monospace\"><span style=\"font-weight: bold\">[</span><span style=\"color: #008000; text-decoration-color: #008000\">'1'</span> <span style=\"color: #008000; text-decoration-color: #008000\">'0'</span> <span style=\"color: #008000; text-decoration-color: #008000\">'1'</span> <span style=\"color: #008000; text-decoration-color: #008000\">'1'</span> <span style=\"color: #008000; text-decoration-color: #008000\">'0'</span> <span style=\"color: #008000; text-decoration-color: #008000\">'0'</span> <span style=\"color: #008000; text-decoration-color: #008000\">'1'</span> <span style=\"color: #008000; text-decoration-color: #008000\">'0'</span> <span style=\"color: #008000; text-decoration-color: #008000\">'0'</span> <span style=\"color: #008000; text-decoration-color: #008000\">'0'</span> <span style=\"color: #008000; text-decoration-color: #008000\">'0'</span> <span style=\"color: #008000; text-decoration-color: #008000\">'1'</span><span style=\"font-weight: bold\">]</span>\n",
       "</pre>\n"
      ],
      "text/plain": [
       "\u001b[1m[\u001b[0m\u001b[32m'1'\u001b[0m \u001b[32m'0'\u001b[0m \u001b[32m'1'\u001b[0m \u001b[32m'1'\u001b[0m \u001b[32m'0'\u001b[0m \u001b[32m'0'\u001b[0m \u001b[32m'1'\u001b[0m \u001b[32m'0'\u001b[0m \u001b[32m'0'\u001b[0m \u001b[32m'0'\u001b[0m \u001b[32m'0'\u001b[0m \u001b[32m'1'\u001b[0m\u001b[1m]\u001b[0m\n"
      ]
     },
     "metadata": {},
     "output_type": "display_data"
    }
   ],
   "source": [
    "\"\"\" So, we can apply this concept against the entire dataframe. What is the most common value for each column? \"\"\"\n",
    "\n",
    "gamma_df = df.apply(lambda x: x.value_counts().idxmax())\n",
    "print(gamma_df.values)"
   ]
  },
  {
   "cell_type": "code",
   "execution_count": 8,
   "metadata": {},
   "outputs": [
    {
     "data": {
      "text/html": [
       "<pre style=\"white-space:pre;overflow-x:auto;line-height:normal;font-family:Menlo,'DejaVu Sans Mono',consolas,'Courier New',monospace\"><span style=\"font-weight: bold\">[</span><span style=\"color: #008000; text-decoration-color: #008000\">'0'</span> <span style=\"color: #008000; text-decoration-color: #008000\">'1'</span> <span style=\"color: #008000; text-decoration-color: #008000\">'0'</span> <span style=\"color: #008000; text-decoration-color: #008000\">'0'</span> <span style=\"color: #008000; text-decoration-color: #008000\">'1'</span> <span style=\"color: #008000; text-decoration-color: #008000\">'1'</span> <span style=\"color: #008000; text-decoration-color: #008000\">'0'</span> <span style=\"color: #008000; text-decoration-color: #008000\">'1'</span> <span style=\"color: #008000; text-decoration-color: #008000\">'1'</span> <span style=\"color: #008000; text-decoration-color: #008000\">'1'</span> <span style=\"color: #008000; text-decoration-color: #008000\">'1'</span> <span style=\"color: #008000; text-decoration-color: #008000\">'0'</span><span style=\"font-weight: bold\">]</span>\n",
       "</pre>\n"
      ],
      "text/plain": [
       "\u001b[1m[\u001b[0m\u001b[32m'0'\u001b[0m \u001b[32m'1'\u001b[0m \u001b[32m'0'\u001b[0m \u001b[32m'0'\u001b[0m \u001b[32m'1'\u001b[0m \u001b[32m'1'\u001b[0m \u001b[32m'0'\u001b[0m \u001b[32m'1'\u001b[0m \u001b[32m'1'\u001b[0m \u001b[32m'1'\u001b[0m \u001b[32m'1'\u001b[0m \u001b[32m'0'\u001b[0m\u001b[1m]\u001b[0m\n"
      ]
     },
     "metadata": {},
     "output_type": "display_data"
    }
   ],
   "source": [
    "\"\"\" What is the least common value for each column? \"\"\"\n",
    "\n",
    "epsilon_df = df.apply(lambda x: x.value_counts().idxmin())\n",
    "print(epsilon_df.values)"
   ]
  },
  {
   "cell_type": "code",
   "execution_count": 9,
   "metadata": {},
   "outputs": [
    {
     "data": {
      "text/html": [
       "<pre style=\"white-space:pre;overflow-x:auto;line-height:normal;font-family:Menlo,'DejaVu Sans Mono',consolas,'Courier New',monospace\"><span style=\"color: #008080; text-decoration-color: #008080; font-weight: bold\">2849</span> <span style=\"color: #008080; text-decoration-color: #008080; font-weight: bold\">1246</span>\n",
       "</pre>\n"
      ],
      "text/plain": [
       "\u001b[1;36m2849\u001b[0m \u001b[1;36m1246\u001b[0m\n"
      ]
     },
     "metadata": {},
     "output_type": "display_data"
    }
   ],
   "source": [
    "\"\"\" Convert the binary number into a decimal number. \"\"\"\n",
    "\n",
    "gamma   = int(''.join(gamma_df), 2)\n",
    "epsilon = int(''.join(epsilon_df), 2)\n",
    "\n",
    "print(gamma, epsilon)"
   ]
  },
  {
   "cell_type": "code",
   "execution_count": 10,
   "metadata": {},
   "outputs": [
    {
     "data": {
      "text/html": [
       "<pre style=\"white-space:pre;overflow-x:auto;line-height:normal;font-family:Menlo,'DejaVu Sans Mono',consolas,'Courier New',monospace\"><span style=\"color: #008080; text-decoration-color: #008080; font-weight: bold\">3549854</span>\n",
       "</pre>\n"
      ],
      "text/plain": [
       "\u001b[1;36m3549854\u001b[0m\n"
      ]
     },
     "metadata": {},
     "output_type": "display_data"
    }
   ],
   "source": [
    "\"\"\" The answer is the product of our gamma rate and epsilone rate. \"\"\"\n",
    "\n",
    "print(np.product([gamma, epsilon]))"
   ]
  },
  {
   "cell_type": "markdown",
   "metadata": {},
   "source": [
    "# Part 2\n",
    "\n",
    "## First, test our logic using their example"
   ]
  },
  {
   "cell_type": "code",
   "execution_count": 11,
   "metadata": {},
   "outputs": [
    {
     "data": {
      "text/html": [
       "<div>\n",
       "<style scoped>\n",
       "    .dataframe tbody tr th:only-of-type {\n",
       "        vertical-align: middle;\n",
       "    }\n",
       "\n",
       "    .dataframe tbody tr th {\n",
       "        vertical-align: top;\n",
       "    }\n",
       "\n",
       "    .dataframe thead th {\n",
       "        text-align: right;\n",
       "    }\n",
       "</style>\n",
       "<table border=\"1\" class=\"dataframe\">\n",
       "  <thead>\n",
       "    <tr style=\"text-align: right;\">\n",
       "      <th></th>\n",
       "      <th>0</th>\n",
       "      <th>1</th>\n",
       "      <th>2</th>\n",
       "      <th>3</th>\n",
       "      <th>4</th>\n",
       "    </tr>\n",
       "  </thead>\n",
       "  <tbody>\n",
       "    <tr>\n",
       "      <th>0</th>\n",
       "      <td>0</td>\n",
       "      <td>0</td>\n",
       "      <td>1</td>\n",
       "      <td>0</td>\n",
       "      <td>0</td>\n",
       "    </tr>\n",
       "    <tr>\n",
       "      <th>1</th>\n",
       "      <td>1</td>\n",
       "      <td>1</td>\n",
       "      <td>1</td>\n",
       "      <td>1</td>\n",
       "      <td>0</td>\n",
       "    </tr>\n",
       "    <tr>\n",
       "      <th>2</th>\n",
       "      <td>1</td>\n",
       "      <td>0</td>\n",
       "      <td>1</td>\n",
       "      <td>1</td>\n",
       "      <td>0</td>\n",
       "    </tr>\n",
       "    <tr>\n",
       "      <th>3</th>\n",
       "      <td>1</td>\n",
       "      <td>0</td>\n",
       "      <td>1</td>\n",
       "      <td>1</td>\n",
       "      <td>1</td>\n",
       "    </tr>\n",
       "    <tr>\n",
       "      <th>4</th>\n",
       "      <td>1</td>\n",
       "      <td>0</td>\n",
       "      <td>1</td>\n",
       "      <td>0</td>\n",
       "      <td>1</td>\n",
       "    </tr>\n",
       "    <tr>\n",
       "      <th>5</th>\n",
       "      <td>0</td>\n",
       "      <td>1</td>\n",
       "      <td>1</td>\n",
       "      <td>1</td>\n",
       "      <td>1</td>\n",
       "    </tr>\n",
       "    <tr>\n",
       "      <th>6</th>\n",
       "      <td>0</td>\n",
       "      <td>0</td>\n",
       "      <td>1</td>\n",
       "      <td>1</td>\n",
       "      <td>1</td>\n",
       "    </tr>\n",
       "    <tr>\n",
       "      <th>7</th>\n",
       "      <td>1</td>\n",
       "      <td>1</td>\n",
       "      <td>1</td>\n",
       "      <td>0</td>\n",
       "      <td>0</td>\n",
       "    </tr>\n",
       "    <tr>\n",
       "      <th>8</th>\n",
       "      <td>1</td>\n",
       "      <td>0</td>\n",
       "      <td>0</td>\n",
       "      <td>0</td>\n",
       "      <td>0</td>\n",
       "    </tr>\n",
       "    <tr>\n",
       "      <th>9</th>\n",
       "      <td>1</td>\n",
       "      <td>1</td>\n",
       "      <td>0</td>\n",
       "      <td>0</td>\n",
       "      <td>1</td>\n",
       "    </tr>\n",
       "    <tr>\n",
       "      <th>10</th>\n",
       "      <td>0</td>\n",
       "      <td>0</td>\n",
       "      <td>0</td>\n",
       "      <td>1</td>\n",
       "      <td>0</td>\n",
       "    </tr>\n",
       "    <tr>\n",
       "      <th>11</th>\n",
       "      <td>0</td>\n",
       "      <td>1</td>\n",
       "      <td>0</td>\n",
       "      <td>1</td>\n",
       "      <td>0</td>\n",
       "    </tr>\n",
       "  </tbody>\n",
       "</table>\n",
       "</div>"
      ],
      "text/plain": [
       "    0  1  2  3  4\n",
       "0   0  0  1  0  0\n",
       "1   1  1  1  1  0\n",
       "2   1  0  1  1  0\n",
       "3   1  0  1  1  1\n",
       "4   1  0  1  0  1\n",
       "5   0  1  1  1  1\n",
       "6   0  0  1  1  1\n",
       "7   1  1  1  0  0\n",
       "8   1  0  0  0  0\n",
       "9   1  1  0  0  1\n",
       "10  0  0  0  1  0\n",
       "11  0  1  0  1  0"
      ]
     },
     "execution_count": 11,
     "metadata": {},
     "output_type": "execute_result"
    }
   ],
   "source": [
    "example_data = pd.Series(['00100','11110','10110','10111','10101','01111','00111','11100','10000','11001','00010','01010'])\n",
    "example_df = pd.DataFrame(example_data.map(lambda x: list(x)).tolist())\n",
    "example_df"
   ]
  },
  {
   "cell_type": "code",
   "execution_count": 12,
   "metadata": {},
   "outputs": [],
   "source": [
    "def filter_oxygen(dataframe, logging=True):\n",
    "    d = dataframe.copy()\n",
    "    for i in range(len(d.columns)):\n",
    "        # stop once we have a single row\n",
    "        if len(d) == 1: break\n",
    "        # get the most common value in the column (aka high)\n",
    "        high, low = d[i].value_counts(sort=True, ascending=False).items()\n",
    "\n",
    "        # fancy logic from challenge to find the \"oxygen rating\"\n",
    "        if high[1] > low[1]:\n",
    "            value = high[0]\n",
    "        elif high[1] < low[1]:\n",
    "            value = low[0]\n",
    "        else:\n",
    "            value = '1'\n",
    "\n",
    "        if logging:\n",
    "            print(f'index: {i} high: {high} low: {low} value: {value}')\n",
    "        \n",
    "        # remove rows that don't match the value\n",
    "        d.drop(d[d[i] != value].index, inplace=True)\n",
    "    return d\n",
    "\n",
    "\n",
    "def filter_co2(dataframe, logging=True):\n",
    "    d = dataframe.copy()\n",
    "    for i in range(len(d.columns)):\n",
    "        if len(d) == 1: break\n",
    "        high, low = d[i].value_counts(sort=True, ascending=False).items()\n",
    "\n",
    "        # the only diff between both functions, but I was lazy and copy/pasted the code 😅\n",
    "        if high[1] < low[1]:\n",
    "            value = high[0]\n",
    "        elif high[1] > low[1]:\n",
    "            value = low[0]\n",
    "        else:\n",
    "            value = '0'\n",
    "\n",
    "        if logging:\n",
    "            print(f'index: {i} high: {high} low: {low} value: {value}')\n",
    "        d.drop(d[d[i] != value].index, inplace=True)\n",
    "    return d"
   ]
  },
  {
   "cell_type": "code",
   "execution_count": 13,
   "metadata": {},
   "outputs": [
    {
     "data": {
      "text/html": [
       "<pre style=\"white-space:pre;overflow-x:auto;line-height:normal;font-family:Menlo,'DejaVu Sans Mono',consolas,'Courier New',monospace\">index: <span style=\"color: #008080; text-decoration-color: #008080; font-weight: bold\">0</span> high: <span style=\"font-weight: bold\">(</span><span style=\"color: #008000; text-decoration-color: #008000\">'1'</span>, <span style=\"color: #008080; text-decoration-color: #008080; font-weight: bold\">7</span><span style=\"font-weight: bold\">)</span> low: <span style=\"font-weight: bold\">(</span><span style=\"color: #008000; text-decoration-color: #008000\">'0'</span>, <span style=\"color: #008080; text-decoration-color: #008080; font-weight: bold\">5</span><span style=\"font-weight: bold\">)</span> value: <span style=\"color: #008080; text-decoration-color: #008080; font-weight: bold\">1</span>\n",
       "</pre>\n"
      ],
      "text/plain": [
       "index: \u001b[1;36m0\u001b[0m high: \u001b[1m(\u001b[0m\u001b[32m'1'\u001b[0m, \u001b[1;36m7\u001b[0m\u001b[1m)\u001b[0m low: \u001b[1m(\u001b[0m\u001b[32m'0'\u001b[0m, \u001b[1;36m5\u001b[0m\u001b[1m)\u001b[0m value: \u001b[1;36m1\u001b[0m\n"
      ]
     },
     "metadata": {},
     "output_type": "display_data"
    },
    {
     "data": {
      "text/html": [
       "<pre style=\"white-space:pre;overflow-x:auto;line-height:normal;font-family:Menlo,'DejaVu Sans Mono',consolas,'Courier New',monospace\">index: <span style=\"color: #008080; text-decoration-color: #008080; font-weight: bold\">1</span> high: <span style=\"font-weight: bold\">(</span><span style=\"color: #008000; text-decoration-color: #008000\">'0'</span>, <span style=\"color: #008080; text-decoration-color: #008080; font-weight: bold\">4</span><span style=\"font-weight: bold\">)</span> low: <span style=\"font-weight: bold\">(</span><span style=\"color: #008000; text-decoration-color: #008000\">'1'</span>, <span style=\"color: #008080; text-decoration-color: #008080; font-weight: bold\">3</span><span style=\"font-weight: bold\">)</span> value: <span style=\"color: #008080; text-decoration-color: #008080; font-weight: bold\">0</span>\n",
       "</pre>\n"
      ],
      "text/plain": [
       "index: \u001b[1;36m1\u001b[0m high: \u001b[1m(\u001b[0m\u001b[32m'0'\u001b[0m, \u001b[1;36m4\u001b[0m\u001b[1m)\u001b[0m low: \u001b[1m(\u001b[0m\u001b[32m'1'\u001b[0m, \u001b[1;36m3\u001b[0m\u001b[1m)\u001b[0m value: \u001b[1;36m0\u001b[0m\n"
      ]
     },
     "metadata": {},
     "output_type": "display_data"
    },
    {
     "data": {
      "text/html": [
       "<pre style=\"white-space:pre;overflow-x:auto;line-height:normal;font-family:Menlo,'DejaVu Sans Mono',consolas,'Courier New',monospace\">index: <span style=\"color: #008080; text-decoration-color: #008080; font-weight: bold\">2</span> high: <span style=\"font-weight: bold\">(</span><span style=\"color: #008000; text-decoration-color: #008000\">'1'</span>, <span style=\"color: #008080; text-decoration-color: #008080; font-weight: bold\">3</span><span style=\"font-weight: bold\">)</span> low: <span style=\"font-weight: bold\">(</span><span style=\"color: #008000; text-decoration-color: #008000\">'0'</span>, <span style=\"color: #008080; text-decoration-color: #008080; font-weight: bold\">1</span><span style=\"font-weight: bold\">)</span> value: <span style=\"color: #008080; text-decoration-color: #008080; font-weight: bold\">1</span>\n",
       "</pre>\n"
      ],
      "text/plain": [
       "index: \u001b[1;36m2\u001b[0m high: \u001b[1m(\u001b[0m\u001b[32m'1'\u001b[0m, \u001b[1;36m3\u001b[0m\u001b[1m)\u001b[0m low: \u001b[1m(\u001b[0m\u001b[32m'0'\u001b[0m, \u001b[1;36m1\u001b[0m\u001b[1m)\u001b[0m value: \u001b[1;36m1\u001b[0m\n"
      ]
     },
     "metadata": {},
     "output_type": "display_data"
    },
    {
     "data": {
      "text/html": [
       "<pre style=\"white-space:pre;overflow-x:auto;line-height:normal;font-family:Menlo,'DejaVu Sans Mono',consolas,'Courier New',monospace\">index: <span style=\"color: #008080; text-decoration-color: #008080; font-weight: bold\">3</span> high: <span style=\"font-weight: bold\">(</span><span style=\"color: #008000; text-decoration-color: #008000\">'1'</span>, <span style=\"color: #008080; text-decoration-color: #008080; font-weight: bold\">2</span><span style=\"font-weight: bold\">)</span> low: <span style=\"font-weight: bold\">(</span><span style=\"color: #008000; text-decoration-color: #008000\">'0'</span>, <span style=\"color: #008080; text-decoration-color: #008080; font-weight: bold\">1</span><span style=\"font-weight: bold\">)</span> value: <span style=\"color: #008080; text-decoration-color: #008080; font-weight: bold\">1</span>\n",
       "</pre>\n"
      ],
      "text/plain": [
       "index: \u001b[1;36m3\u001b[0m high: \u001b[1m(\u001b[0m\u001b[32m'1'\u001b[0m, \u001b[1;36m2\u001b[0m\u001b[1m)\u001b[0m low: \u001b[1m(\u001b[0m\u001b[32m'0'\u001b[0m, \u001b[1;36m1\u001b[0m\u001b[1m)\u001b[0m value: \u001b[1;36m1\u001b[0m\n"
      ]
     },
     "metadata": {},
     "output_type": "display_data"
    },
    {
     "data": {
      "text/html": [
       "<pre style=\"white-space:pre;overflow-x:auto;line-height:normal;font-family:Menlo,'DejaVu Sans Mono',consolas,'Courier New',monospace\">index: <span style=\"color: #008080; text-decoration-color: #008080; font-weight: bold\">4</span> high: <span style=\"font-weight: bold\">(</span><span style=\"color: #008000; text-decoration-color: #008000\">'0'</span>, <span style=\"color: #008080; text-decoration-color: #008080; font-weight: bold\">1</span><span style=\"font-weight: bold\">)</span> low: <span style=\"font-weight: bold\">(</span><span style=\"color: #008000; text-decoration-color: #008000\">'1'</span>, <span style=\"color: #008080; text-decoration-color: #008080; font-weight: bold\">1</span><span style=\"font-weight: bold\">)</span> value: <span style=\"color: #008080; text-decoration-color: #008080; font-weight: bold\">1</span>\n",
       "</pre>\n"
      ],
      "text/plain": [
       "index: \u001b[1;36m4\u001b[0m high: \u001b[1m(\u001b[0m\u001b[32m'0'\u001b[0m, \u001b[1;36m1\u001b[0m\u001b[1m)\u001b[0m low: \u001b[1m(\u001b[0m\u001b[32m'1'\u001b[0m, \u001b[1;36m1\u001b[0m\u001b[1m)\u001b[0m value: \u001b[1;36m1\u001b[0m\n"
      ]
     },
     "metadata": {},
     "output_type": "display_data"
    }
   ],
   "source": [
    "oxy_df = filter_oxygen(example_df)"
   ]
  },
  {
   "cell_type": "code",
   "execution_count": 14,
   "metadata": {},
   "outputs": [
    {
     "data": {
      "text/html": [
       "<pre style=\"white-space:pre;overflow-x:auto;line-height:normal;font-family:Menlo,'DejaVu Sans Mono',consolas,'Courier New',monospace\">index: <span style=\"color: #008080; text-decoration-color: #008080; font-weight: bold\">0</span> high: <span style=\"font-weight: bold\">(</span><span style=\"color: #008000; text-decoration-color: #008000\">'1'</span>, <span style=\"color: #008080; text-decoration-color: #008080; font-weight: bold\">7</span><span style=\"font-weight: bold\">)</span> low: <span style=\"font-weight: bold\">(</span><span style=\"color: #008000; text-decoration-color: #008000\">'0'</span>, <span style=\"color: #008080; text-decoration-color: #008080; font-weight: bold\">5</span><span style=\"font-weight: bold\">)</span> value: <span style=\"color: #008080; text-decoration-color: #008080; font-weight: bold\">0</span>\n",
       "</pre>\n"
      ],
      "text/plain": [
       "index: \u001b[1;36m0\u001b[0m high: \u001b[1m(\u001b[0m\u001b[32m'1'\u001b[0m, \u001b[1;36m7\u001b[0m\u001b[1m)\u001b[0m low: \u001b[1m(\u001b[0m\u001b[32m'0'\u001b[0m, \u001b[1;36m5\u001b[0m\u001b[1m)\u001b[0m value: \u001b[1;36m0\u001b[0m\n"
      ]
     },
     "metadata": {},
     "output_type": "display_data"
    },
    {
     "data": {
      "text/html": [
       "<pre style=\"white-space:pre;overflow-x:auto;line-height:normal;font-family:Menlo,'DejaVu Sans Mono',consolas,'Courier New',monospace\">index: <span style=\"color: #008080; text-decoration-color: #008080; font-weight: bold\">1</span> high: <span style=\"font-weight: bold\">(</span><span style=\"color: #008000; text-decoration-color: #008000\">'0'</span>, <span style=\"color: #008080; text-decoration-color: #008080; font-weight: bold\">3</span><span style=\"font-weight: bold\">)</span> low: <span style=\"font-weight: bold\">(</span><span style=\"color: #008000; text-decoration-color: #008000\">'1'</span>, <span style=\"color: #008080; text-decoration-color: #008080; font-weight: bold\">2</span><span style=\"font-weight: bold\">)</span> value: <span style=\"color: #008080; text-decoration-color: #008080; font-weight: bold\">1</span>\n",
       "</pre>\n"
      ],
      "text/plain": [
       "index: \u001b[1;36m1\u001b[0m high: \u001b[1m(\u001b[0m\u001b[32m'0'\u001b[0m, \u001b[1;36m3\u001b[0m\u001b[1m)\u001b[0m low: \u001b[1m(\u001b[0m\u001b[32m'1'\u001b[0m, \u001b[1;36m2\u001b[0m\u001b[1m)\u001b[0m value: \u001b[1;36m1\u001b[0m\n"
      ]
     },
     "metadata": {},
     "output_type": "display_data"
    },
    {
     "data": {
      "text/html": [
       "<pre style=\"white-space:pre;overflow-x:auto;line-height:normal;font-family:Menlo,'DejaVu Sans Mono',consolas,'Courier New',monospace\">index: <span style=\"color: #008080; text-decoration-color: #008080; font-weight: bold\">2</span> high: <span style=\"font-weight: bold\">(</span><span style=\"color: #008000; text-decoration-color: #008000\">'1'</span>, <span style=\"color: #008080; text-decoration-color: #008080; font-weight: bold\">1</span><span style=\"font-weight: bold\">)</span> low: <span style=\"font-weight: bold\">(</span><span style=\"color: #008000; text-decoration-color: #008000\">'0'</span>, <span style=\"color: #008080; text-decoration-color: #008080; font-weight: bold\">1</span><span style=\"font-weight: bold\">)</span> value: <span style=\"color: #008080; text-decoration-color: #008080; font-weight: bold\">0</span>\n",
       "</pre>\n"
      ],
      "text/plain": [
       "index: \u001b[1;36m2\u001b[0m high: \u001b[1m(\u001b[0m\u001b[32m'1'\u001b[0m, \u001b[1;36m1\u001b[0m\u001b[1m)\u001b[0m low: \u001b[1m(\u001b[0m\u001b[32m'0'\u001b[0m, \u001b[1;36m1\u001b[0m\u001b[1m)\u001b[0m value: \u001b[1;36m0\u001b[0m\n"
      ]
     },
     "metadata": {},
     "output_type": "display_data"
    }
   ],
   "source": [
    "co2_df = filter_co2(example_df)"
   ]
  },
  {
   "cell_type": "code",
   "execution_count": 15,
   "metadata": {},
   "outputs": [
    {
     "data": {
      "text/html": [
       "<pre style=\"white-space:pre;overflow-x:auto;line-height:normal;font-family:Menlo,'DejaVu Sans Mono',consolas,'Courier New',monospace\"><span style=\"font-weight: bold\">[[</span><span style=\"color: #008000; text-decoration-color: #008000\">'1'</span> <span style=\"color: #008000; text-decoration-color: #008000\">'0'</span> <span style=\"color: #008000; text-decoration-color: #008000\">'1'</span> <span style=\"color: #008000; text-decoration-color: #008000\">'1'</span> <span style=\"color: #008000; text-decoration-color: #008000\">'1'</span><span style=\"font-weight: bold\">]]</span>\n",
       "</pre>\n"
      ],
      "text/plain": [
       "\u001b[1m[\u001b[0m\u001b[1m[\u001b[0m\u001b[32m'1'\u001b[0m \u001b[32m'0'\u001b[0m \u001b[32m'1'\u001b[0m \u001b[32m'1'\u001b[0m \u001b[32m'1'\u001b[0m\u001b[1m]\u001b[0m\u001b[1m]\u001b[0m\n"
      ]
     },
     "metadata": {},
     "output_type": "display_data"
    },
    {
     "data": {
      "text/html": [
       "<pre style=\"white-space:pre;overflow-x:auto;line-height:normal;font-family:Menlo,'DejaVu Sans Mono',consolas,'Courier New',monospace\"><span style=\"font-weight: bold\">[[</span><span style=\"color: #008000; text-decoration-color: #008000\">'0'</span> <span style=\"color: #008000; text-decoration-color: #008000\">'1'</span> <span style=\"color: #008000; text-decoration-color: #008000\">'0'</span> <span style=\"color: #008000; text-decoration-color: #008000\">'1'</span> <span style=\"color: #008000; text-decoration-color: #008000\">'0'</span><span style=\"font-weight: bold\">]]</span>\n",
       "</pre>\n"
      ],
      "text/plain": [
       "\u001b[1m[\u001b[0m\u001b[1m[\u001b[0m\u001b[32m'0'\u001b[0m \u001b[32m'1'\u001b[0m \u001b[32m'0'\u001b[0m \u001b[32m'1'\u001b[0m \u001b[32m'0'\u001b[0m\u001b[1m]\u001b[0m\u001b[1m]\u001b[0m\n"
      ]
     },
     "metadata": {},
     "output_type": "display_data"
    }
   ],
   "source": [
    "print(oxy_df.values)\n",
    "print(co2_df.values)"
   ]
  },
  {
   "cell_type": "code",
   "execution_count": 16,
   "metadata": {},
   "outputs": [
    {
     "data": {
      "text/html": [
       "<pre style=\"white-space:pre;overflow-x:auto;line-height:normal;font-family:Menlo,'DejaVu Sans Mono',consolas,'Courier New',monospace\"><span style=\"color: #008080; text-decoration-color: #008080; font-weight: bold\">23</span> <span style=\"color: #008080; text-decoration-color: #008080; font-weight: bold\">10</span>\n",
       "</pre>\n"
      ],
      "text/plain": [
       "\u001b[1;36m23\u001b[0m \u001b[1;36m10\u001b[0m\n"
      ]
     },
     "metadata": {},
     "output_type": "display_data"
    }
   ],
   "source": [
    "\"\"\" Convert the binary number into a decimal number. \"\"\"\n",
    "\n",
    "OXYGEN = int(''.join(oxy_df.iloc[0]), 2)\n",
    "CO2    = int(''.join(co2_df.iloc[0]), 2)\n",
    "\n",
    "print(OXYGEN, CO2)"
   ]
  },
  {
   "cell_type": "code",
   "execution_count": 17,
   "metadata": {},
   "outputs": [
    {
     "data": {
      "text/html": [
       "<pre style=\"white-space:pre;overflow-x:auto;line-height:normal;font-family:Menlo,'DejaVu Sans Mono',consolas,'Courier New',monospace\"><span style=\"color: #008080; text-decoration-color: #008080; font-weight: bold\">230</span>\n",
       "</pre>\n"
      ],
      "text/plain": [
       "\u001b[1;36m230\u001b[0m\n"
      ]
     },
     "metadata": {},
     "output_type": "display_data"
    }
   ],
   "source": [
    "\"\"\" The answer is the product of our oxygen rate and CO2 rate. \"\"\"\n",
    "\n",
    "print(np.product([OXYGEN, CO2]))"
   ]
  },
  {
   "cell_type": "markdown",
   "metadata": {},
   "source": [
    "## Now continue with the challenge using the real input data"
   ]
  },
  {
   "cell_type": "code",
   "execution_count": 18,
   "metadata": {},
   "outputs": [
    {
     "data": {
      "text/html": [
       "<div>\n",
       "<style scoped>\n",
       "    .dataframe tbody tr th:only-of-type {\n",
       "        vertical-align: middle;\n",
       "    }\n",
       "\n",
       "    .dataframe tbody tr th {\n",
       "        vertical-align: top;\n",
       "    }\n",
       "\n",
       "    .dataframe thead th {\n",
       "        text-align: right;\n",
       "    }\n",
       "</style>\n",
       "<table border=\"1\" class=\"dataframe\">\n",
       "  <thead>\n",
       "    <tr style=\"text-align: right;\">\n",
       "      <th></th>\n",
       "      <th>0</th>\n",
       "      <th>1</th>\n",
       "      <th>2</th>\n",
       "      <th>3</th>\n",
       "      <th>4</th>\n",
       "      <th>5</th>\n",
       "      <th>6</th>\n",
       "      <th>7</th>\n",
       "      <th>8</th>\n",
       "      <th>9</th>\n",
       "      <th>10</th>\n",
       "      <th>11</th>\n",
       "    </tr>\n",
       "  </thead>\n",
       "  <tbody>\n",
       "    <tr>\n",
       "      <th>0</th>\n",
       "      <td>0</td>\n",
       "      <td>0</td>\n",
       "      <td>0</td>\n",
       "      <td>0</td>\n",
       "      <td>0</td>\n",
       "      <td>0</td>\n",
       "      <td>0</td>\n",
       "      <td>1</td>\n",
       "      <td>1</td>\n",
       "      <td>0</td>\n",
       "      <td>1</td>\n",
       "      <td>0</td>\n",
       "    </tr>\n",
       "    <tr>\n",
       "      <th>1</th>\n",
       "      <td>0</td>\n",
       "      <td>1</td>\n",
       "      <td>1</td>\n",
       "      <td>0</td>\n",
       "      <td>0</td>\n",
       "      <td>1</td>\n",
       "      <td>1</td>\n",
       "      <td>1</td>\n",
       "      <td>1</td>\n",
       "      <td>0</td>\n",
       "      <td>1</td>\n",
       "      <td>1</td>\n",
       "    </tr>\n",
       "    <tr>\n",
       "      <th>2</th>\n",
       "      <td>1</td>\n",
       "      <td>0</td>\n",
       "      <td>0</td>\n",
       "      <td>1</td>\n",
       "      <td>0</td>\n",
       "      <td>1</td>\n",
       "      <td>0</td>\n",
       "      <td>1</td>\n",
       "      <td>1</td>\n",
       "      <td>1</td>\n",
       "      <td>0</td>\n",
       "      <td>1</td>\n",
       "    </tr>\n",
       "    <tr>\n",
       "      <th>3</th>\n",
       "      <td>0</td>\n",
       "      <td>0</td>\n",
       "      <td>0</td>\n",
       "      <td>1</td>\n",
       "      <td>1</td>\n",
       "      <td>0</td>\n",
       "      <td>0</td>\n",
       "      <td>0</td>\n",
       "      <td>0</td>\n",
       "      <td>1</td>\n",
       "      <td>1</td>\n",
       "      <td>0</td>\n",
       "    </tr>\n",
       "    <tr>\n",
       "      <th>4</th>\n",
       "      <td>1</td>\n",
       "      <td>0</td>\n",
       "      <td>1</td>\n",
       "      <td>0</td>\n",
       "      <td>1</td>\n",
       "      <td>0</td>\n",
       "      <td>0</td>\n",
       "      <td>0</td>\n",
       "      <td>1</td>\n",
       "      <td>0</td>\n",
       "      <td>1</td>\n",
       "      <td>0</td>\n",
       "    </tr>\n",
       "    <tr>\n",
       "      <th>...</th>\n",
       "      <td>...</td>\n",
       "      <td>...</td>\n",
       "      <td>...</td>\n",
       "      <td>...</td>\n",
       "      <td>...</td>\n",
       "      <td>...</td>\n",
       "      <td>...</td>\n",
       "      <td>...</td>\n",
       "      <td>...</td>\n",
       "      <td>...</td>\n",
       "      <td>...</td>\n",
       "      <td>...</td>\n",
       "    </tr>\n",
       "    <tr>\n",
       "      <th>995</th>\n",
       "      <td>1</td>\n",
       "      <td>0</td>\n",
       "      <td>0</td>\n",
       "      <td>0</td>\n",
       "      <td>0</td>\n",
       "      <td>1</td>\n",
       "      <td>0</td>\n",
       "      <td>0</td>\n",
       "      <td>1</td>\n",
       "      <td>1</td>\n",
       "      <td>1</td>\n",
       "      <td>0</td>\n",
       "    </tr>\n",
       "    <tr>\n",
       "      <th>996</th>\n",
       "      <td>1</td>\n",
       "      <td>1</td>\n",
       "      <td>1</td>\n",
       "      <td>1</td>\n",
       "      <td>0</td>\n",
       "      <td>1</td>\n",
       "      <td>1</td>\n",
       "      <td>0</td>\n",
       "      <td>0</td>\n",
       "      <td>1</td>\n",
       "      <td>1</td>\n",
       "      <td>1</td>\n",
       "    </tr>\n",
       "    <tr>\n",
       "      <th>997</th>\n",
       "      <td>1</td>\n",
       "      <td>1</td>\n",
       "      <td>1</td>\n",
       "      <td>0</td>\n",
       "      <td>1</td>\n",
       "      <td>1</td>\n",
       "      <td>1</td>\n",
       "      <td>1</td>\n",
       "      <td>1</td>\n",
       "      <td>1</td>\n",
       "      <td>0</td>\n",
       "      <td>0</td>\n",
       "    </tr>\n",
       "    <tr>\n",
       "      <th>998</th>\n",
       "      <td>0</td>\n",
       "      <td>0</td>\n",
       "      <td>0</td>\n",
       "      <td>0</td>\n",
       "      <td>1</td>\n",
       "      <td>1</td>\n",
       "      <td>0</td>\n",
       "      <td>1</td>\n",
       "      <td>1</td>\n",
       "      <td>0</td>\n",
       "      <td>0</td>\n",
       "      <td>1</td>\n",
       "    </tr>\n",
       "    <tr>\n",
       "      <th>999</th>\n",
       "      <td>0</td>\n",
       "      <td>0</td>\n",
       "      <td>0</td>\n",
       "      <td>0</td>\n",
       "      <td>0</td>\n",
       "      <td>0</td>\n",
       "      <td>1</td>\n",
       "      <td>0</td>\n",
       "      <td>0</td>\n",
       "      <td>0</td>\n",
       "      <td>0</td>\n",
       "      <td>1</td>\n",
       "    </tr>\n",
       "  </tbody>\n",
       "</table>\n",
       "<p>1000 rows × 12 columns</p>\n",
       "</div>"
      ],
      "text/plain": [
       "    0  1  2  3  4  5  6  7  8  9  10 11\n",
       "0    0  0  0  0  0  0  0  1  1  0  1  0\n",
       "1    0  1  1  0  0  1  1  1  1  0  1  1\n",
       "2    1  0  0  1  0  1  0  1  1  1  0  1\n",
       "3    0  0  0  1  1  0  0  0  0  1  1  0\n",
       "4    1  0  1  0  1  0  0  0  1  0  1  0\n",
       "..  .. .. .. .. .. .. .. .. .. .. .. ..\n",
       "995  1  0  0  0  0  1  0  0  1  1  1  0\n",
       "996  1  1  1  1  0  1  1  0  0  1  1  1\n",
       "997  1  1  1  0  1  1  1  1  1  1  0  0\n",
       "998  0  0  0  0  1  1  0  1  1  0  0  1\n",
       "999  0  0  0  0  0  0  1  0  0  0  0  1\n",
       "\n",
       "[1000 rows x 12 columns]"
      ]
     },
     "execution_count": 18,
     "metadata": {},
     "output_type": "execute_result"
    }
   ],
   "source": [
    "\"\"\" Start with our expanded dataframe. \"\"\"\n",
    "\n",
    "df"
   ]
  },
  {
   "cell_type": "code",
   "execution_count": 19,
   "metadata": {},
   "outputs": [
    {
     "data": {
      "text/html": [
       "<pre style=\"white-space:pre;overflow-x:auto;line-height:normal;font-family:Menlo,'DejaVu Sans Mono',consolas,'Courier New',monospace\"><span style=\"font-weight: bold\">[[</span><span style=\"color: #008000; text-decoration-color: #008000\">'1'</span> <span style=\"color: #008000; text-decoration-color: #008000\">'0'</span> <span style=\"color: #008000; text-decoration-color: #008000\">'1'</span> <span style=\"color: #008000; text-decoration-color: #008000\">'0'</span> <span style=\"color: #008000; text-decoration-color: #008000\">'1'</span> <span style=\"color: #008000; text-decoration-color: #008000\">'1'</span> <span style=\"color: #008000; text-decoration-color: #008000\">'0'</span> <span style=\"color: #008000; text-decoration-color: #008000\">'1'</span> <span style=\"color: #008000; text-decoration-color: #008000\">'1'</span> <span style=\"color: #008000; text-decoration-color: #008000\">'1'</span> <span style=\"color: #008000; text-decoration-color: #008000\">'1'</span> <span style=\"color: #008000; text-decoration-color: #008000\">'1'</span><span style=\"font-weight: bold\">]]</span>\n",
       "</pre>\n"
      ],
      "text/plain": [
       "\u001b[1m[\u001b[0m\u001b[1m[\u001b[0m\u001b[32m'1'\u001b[0m \u001b[32m'0'\u001b[0m \u001b[32m'1'\u001b[0m \u001b[32m'0'\u001b[0m \u001b[32m'1'\u001b[0m \u001b[32m'1'\u001b[0m \u001b[32m'0'\u001b[0m \u001b[32m'1'\u001b[0m \u001b[32m'1'\u001b[0m \u001b[32m'1'\u001b[0m \u001b[32m'1'\u001b[0m \u001b[32m'1'\u001b[0m\u001b[1m]\u001b[0m\u001b[1m]\u001b[0m\n"
      ]
     },
     "metadata": {},
     "output_type": "display_data"
    },
    {
     "data": {
      "text/html": [
       "<pre style=\"white-space:pre;overflow-x:auto;line-height:normal;font-family:Menlo,'DejaVu Sans Mono',consolas,'Courier New',monospace\"><span style=\"font-weight: bold\">[[</span><span style=\"color: #008000; text-decoration-color: #008000\">'0'</span> <span style=\"color: #008000; text-decoration-color: #008000\">'1'</span> <span style=\"color: #008000; text-decoration-color: #008000\">'0'</span> <span style=\"color: #008000; text-decoration-color: #008000\">'1'</span> <span style=\"color: #008000; text-decoration-color: #008000\">'0'</span> <span style=\"color: #008000; text-decoration-color: #008000\">'1'</span> <span style=\"color: #008000; text-decoration-color: #008000\">'0'</span> <span style=\"color: #008000; text-decoration-color: #008000\">'0'</span> <span style=\"color: #008000; text-decoration-color: #008000\">'1'</span> <span style=\"color: #008000; text-decoration-color: #008000\">'0'</span> <span style=\"color: #008000; text-decoration-color: #008000\">'0'</span> <span style=\"color: #008000; text-decoration-color: #008000\">'1'</span><span style=\"font-weight: bold\">]]</span>\n",
       "</pre>\n"
      ],
      "text/plain": [
       "\u001b[1m[\u001b[0m\u001b[1m[\u001b[0m\u001b[32m'0'\u001b[0m \u001b[32m'1'\u001b[0m \u001b[32m'0'\u001b[0m \u001b[32m'1'\u001b[0m \u001b[32m'0'\u001b[0m \u001b[32m'1'\u001b[0m \u001b[32m'0'\u001b[0m \u001b[32m'0'\u001b[0m \u001b[32m'1'\u001b[0m \u001b[32m'0'\u001b[0m \u001b[32m'0'\u001b[0m \u001b[32m'1'\u001b[0m\u001b[1m]\u001b[0m\u001b[1m]\u001b[0m\n"
      ]
     },
     "metadata": {},
     "output_type": "display_data"
    }
   ],
   "source": [
    "\"\"\" Apply the function that we defined and tested. \"\"\"\n",
    "\n",
    "oxy_df = filter_oxygen(df, logging=False)\n",
    "co2_df = filter_co2(df, logging=False)\n",
    "print(oxy_df.values)\n",
    "print(co2_df.values)"
   ]
  },
  {
   "cell_type": "code",
   "execution_count": 20,
   "metadata": {},
   "outputs": [
    {
     "data": {
      "text/html": [
       "<pre style=\"white-space:pre;overflow-x:auto;line-height:normal;font-family:Menlo,'DejaVu Sans Mono',consolas,'Courier New',monospace\"><span style=\"color: #008080; text-decoration-color: #008080; font-weight: bold\">2783</span> <span style=\"color: #008080; text-decoration-color: #008080; font-weight: bold\">1353</span>\n",
       "</pre>\n"
      ],
      "text/plain": [
       "\u001b[1;36m2783\u001b[0m \u001b[1;36m1353\u001b[0m\n"
      ]
     },
     "metadata": {},
     "output_type": "display_data"
    }
   ],
   "source": [
    "\"\"\" Convert the binary number into a decimal number. \"\"\"\n",
    "\n",
    "OXYGEN = int(''.join(oxy_df.iloc[0]), 2)\n",
    "CO2    = int(''.join(co2_df.iloc[0]), 2)\n",
    "\n",
    "print(OXYGEN, CO2)"
   ]
  },
  {
   "cell_type": "code",
   "execution_count": 21,
   "metadata": {},
   "outputs": [
    {
     "data": {
      "text/html": [
       "<pre style=\"white-space:pre;overflow-x:auto;line-height:normal;font-family:Menlo,'DejaVu Sans Mono',consolas,'Courier New',monospace\"><span style=\"color: #008080; text-decoration-color: #008080; font-weight: bold\">3765399</span>\n",
       "</pre>\n"
      ],
      "text/plain": [
       "\u001b[1;36m3765399\u001b[0m\n"
      ]
     },
     "metadata": {},
     "output_type": "display_data"
    }
   ],
   "source": [
    "\"\"\" The answer is the product of our oxygen rate and CO2 rate. \"\"\"\n",
    "\n",
    "print(np.product([OXYGEN, CO2]))"
   ]
  }
 ],
 "metadata": {
  "interpreter": {
   "hash": "34403d292a9b2754dfe5b870d6db4b182f933a0e6ce7ddfe4cf347e29283fd48"
  },
  "kernelspec": {
   "display_name": "Python 3.10.0 64-bit ('advent-of-code-WLRwQ8qb-py3.10': poetry)",
   "language": "python",
   "name": "python3"
  },
  "language_info": {
   "codemirror_mode": {
    "name": "ipython",
    "version": 3
   },
   "file_extension": ".py",
   "mimetype": "text/x-python",
   "name": "python",
   "nbconvert_exporter": "python",
   "pygments_lexer": "ipython3",
   "version": "3.10.0"
  },
  "orig_nbformat": 4
 },
 "nbformat": 4,
 "nbformat_minor": 2
}
