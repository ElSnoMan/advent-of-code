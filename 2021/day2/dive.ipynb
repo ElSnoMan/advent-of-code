{
 "cells": [
  {
   "cell_type": "markdown",
   "metadata": {},
   "source": [
    "# Part 1"
   ]
  },
  {
   "cell_type": "code",
   "execution_count": 1,
   "metadata": {},
   "outputs": [],
   "source": [
    "import pandas as pd\n",
    "import numpy as np\n",
    "\n",
    "data = pd.read_table('dive_data.txt', sep=' ', header=None)"
   ]
  },
  {
   "cell_type": "code",
   "execution_count": 2,
   "metadata": {},
   "outputs": [
    {
     "data": {
      "text/html": [
       "<div>\n",
       "<style scoped>\n",
       "    .dataframe tbody tr th:only-of-type {\n",
       "        vertical-align: middle;\n",
       "    }\n",
       "\n",
       "    .dataframe tbody tr th {\n",
       "        vertical-align: top;\n",
       "    }\n",
       "\n",
       "    .dataframe thead th {\n",
       "        text-align: right;\n",
       "    }\n",
       "</style>\n",
       "<table border=\"1\" class=\"dataframe\">\n",
       "  <thead>\n",
       "    <tr style=\"text-align: right;\">\n",
       "      <th></th>\n",
       "      <th>direction</th>\n",
       "      <th>units</th>\n",
       "    </tr>\n",
       "  </thead>\n",
       "  <tbody>\n",
       "    <tr>\n",
       "      <th>0</th>\n",
       "      <td>forward</td>\n",
       "      <td>1</td>\n",
       "    </tr>\n",
       "    <tr>\n",
       "      <th>1</th>\n",
       "      <td>down</td>\n",
       "      <td>5</td>\n",
       "    </tr>\n",
       "    <tr>\n",
       "      <th>2</th>\n",
       "      <td>down</td>\n",
       "      <td>6</td>\n",
       "    </tr>\n",
       "    <tr>\n",
       "      <th>3</th>\n",
       "      <td>down</td>\n",
       "      <td>2</td>\n",
       "    </tr>\n",
       "    <tr>\n",
       "      <th>4</th>\n",
       "      <td>forward</td>\n",
       "      <td>8</td>\n",
       "    </tr>\n",
       "  </tbody>\n",
       "</table>\n",
       "</div>"
      ],
      "text/plain": [
       "  direction  units\n",
       "0   forward      1\n",
       "1      down      5\n",
       "2      down      6\n",
       "3      down      2\n",
       "4   forward      8"
      ]
     },
     "execution_count": 2,
     "metadata": {},
     "output_type": "execute_result"
    }
   ],
   "source": [
    "\"\"\" Assign names to the columns. \"\"\"\n",
    "\n",
    "data.columns = ['direction', 'units']\n",
    "data.head()"
   ]
  },
  {
   "cell_type": "code",
   "execution_count": 3,
   "metadata": {},
   "outputs": [
    {
     "name": "stdout",
     "output_type": "stream",
     "text": [
      "(1000, 2)\n",
      "direction    object\n",
      "units         int64\n",
      "dtype: object\n"
     ]
    }
   ],
   "source": [
    "print(data.shape)\n",
    "print(data.dtypes)"
   ]
  },
  {
   "cell_type": "code",
   "execution_count": 4,
   "metadata": {},
   "outputs": [
    {
     "data": {
      "text/plain": [
       "array(['forward', 'down', 'up'], dtype=object)"
      ]
     },
     "execution_count": 4,
     "metadata": {},
     "output_type": "execute_result"
    }
   ],
   "source": [
    "\"\"\" How many unique directions are there? (is there a 'backward'?) \"\"\"\n",
    "\n",
    "data.direction.unique()"
   ]
  },
  {
   "cell_type": "code",
   "execution_count": null,
   "metadata": {},
   "outputs": [],
   "source": [
    "\"\"\" Starting location is [0, 0] \"\"\"\n",
    "\n",
    "location = [\n",
    "    0, # horizontal position\n",
    "    0, # depth\n",
    "]"
   ]
  },
  {
   "cell_type": "code",
   "execution_count": 5,
   "metadata": {},
   "outputs": [],
   "source": [
    "def move(location, direction: str, units: int) -> list:\n",
    "    horizontal, depth = location\n",
    "\n",
    "    if direction == 'forward':\n",
    "        horizontal += units\n",
    "    elif direction == 'up':\n",
    "        depth -= units\n",
    "    elif direction == 'down':\n",
    "        depth += units\n",
    "    else:\n",
    "        pass # no movement\n",
    "\n",
    "    # can't go negative (aka above water)\n",
    "    horizontal = max(horizontal, 0)\n",
    "    depth = max(depth, 0)\n",
    "\n",
    "    return [horizontal, depth]\n",
    " "
   ]
  },
  {
   "cell_type": "code",
   "execution_count": 6,
   "metadata": {},
   "outputs": [],
   "source": [
    "\"\"\" Test the move() function. \"\"\"\n",
    "\n",
    "assert move([0, 0], 'forward', 1) == [1, 0]\n",
    "assert move([0, 2], 'up'     , 3) == [0, 0]\n",
    "assert move([0, 3], 'down'   , 1) == [0, 4]\n",
    "assert move([3, 4], 'forward', 6) == [9, 4]\n",
    "assert move([3, 4], 'up'     , 2) == [3, 2]\n",
    "assert move([3, 4], 'down'   , 2) == [3, 6]"
   ]
  },
  {
   "cell_type": "code",
   "execution_count": 7,
   "metadata": {},
   "outputs": [
    {
     "name": "stdout",
     "output_type": "stream",
     "text": [
      "[1817, 1072]\n"
     ]
    }
   ],
   "source": [
    "\"\"\" Build the program. \"\"\"\n",
    "\n",
    "LOCATION = [0, 0]\n",
    "\n",
    "for i, direction, units in data.itertuples():\n",
    "    LOCATION = move(LOCATION, direction, units)\n",
    "\n",
    "print(LOCATION)"
   ]
  },
  {
   "cell_type": "code",
   "execution_count": 8,
   "metadata": {},
   "outputs": [
    {
     "data": {
      "text/plain": [
       "1947824"
      ]
     },
     "execution_count": 8,
     "metadata": {},
     "output_type": "execute_result"
    }
   ],
   "source": [
    "\"\"\" The answer is the product of the horizontal and depth of our ending LOCATION. \"\"\"\n",
    "\n",
    "np.product(LOCATION)"
   ]
  },
  {
   "cell_type": "markdown",
   "metadata": {},
   "source": [
    "# Part 2"
   ]
  },
  {
   "cell_type": "code",
   "execution_count": null,
   "metadata": {},
   "outputs": [],
   "source": [
    "\"\"\" Now we gotta keep track of 'aim'. \"\"\"\n",
    "\n",
    "location = [\n",
    "    0, # horizontal position\n",
    "    0, # depth\n",
    "    0, # aim\n",
    "]"
   ]
  },
  {
   "cell_type": "code",
   "execution_count": 9,
   "metadata": {},
   "outputs": [],
   "source": [
    "def aim_then_move(location, direction: str, units: int) -> list:\n",
    "    horizontal, depth, aim = location\n",
    "\n",
    "    if direction == 'forward':\n",
    "        horizontal += units\n",
    "        depth += units * aim\n",
    "    elif direction == 'up':\n",
    "        aim -= units\n",
    "    elif direction == 'down':\n",
    "        aim += units\n",
    "    else:\n",
    "        pass # no movement\n",
    "\n",
    "    # can't go negative (aka above water)\n",
    "    horizontal = max(horizontal, 0)\n",
    "    depth = max(depth, 0)\n",
    "    aim = max(aim, 0)\n",
    "\n",
    "    return [horizontal, depth, aim]"
   ]
  },
  {
   "cell_type": "code",
   "execution_count": 10,
   "metadata": {},
   "outputs": [],
   "source": [
    "\"\"\" Use their example moves to test our function. \"\"\"\n",
    "\n",
    "EXAMPLES = [\n",
    "    ([0, 0, 0]   , 'forward', 5, [5, 0, 0]),\n",
    "    ([5, 0, 0]   , 'down'   , 5, [5, 0, 5]),\n",
    "    ([5, 0, 5]   , 'forward', 8, [13, 40, 5]),\n",
    "    ([13, 40, 5] , 'up'     , 3, [13, 40, 2]),\n",
    "    ([13, 40, 2] , 'down'   , 8, [13, 40, 10]),\n",
    "    ([13, 40, 10], 'forward', 2, [15, 60, 10]),\n",
    "]\n",
    "\n",
    "for i, example in enumerate(EXAMPLES):\n",
    "    location, direction, units, expected = example\n",
    "    output = aim_then_move(location, direction, units)\n",
    "    assert output == expected, f\"Example {i+1}: {output} != {expected}\""
   ]
  },
  {
   "cell_type": "code",
   "execution_count": 11,
   "metadata": {},
   "outputs": [
    {
     "name": "stdout",
     "output_type": "stream",
     "text": [
      "[1817, 997833, 1072]\n"
     ]
    }
   ],
   "source": [
    "\"\"\" Build the program. \"\"\"\n",
    "\n",
    "LOCATION = [0, 0, 0]\n",
    "\n",
    "for i, direction, units in data.itertuples():\n",
    "    LOCATION = aim_then_move(LOCATION, direction, units)\n",
    "\n",
    "print(LOCATION)"
   ]
  },
  {
   "cell_type": "code",
   "execution_count": 12,
   "metadata": {},
   "outputs": [
    {
     "data": {
      "text/plain": [
       "1813062561"
      ]
     },
     "execution_count": 12,
     "metadata": {},
     "output_type": "execute_result"
    }
   ],
   "source": [
    "\"\"\" The answer is the product of the horizontal and depth of our ending LOCATION. \"\"\"\n",
    "\n",
    "np.product([LOCATION[0], LOCATION[1]])"
   ]
  }
 ],
 "metadata": {
  "interpreter": {
   "hash": "34403d292a9b2754dfe5b870d6db4b182f933a0e6ce7ddfe4cf347e29283fd48"
  },
  "kernelspec": {
   "display_name": "Python 3.10.0 64-bit ('advent-of-code-WLRwQ8qb-py3.10': poetry)",
   "language": "python",
   "name": "python3"
  },
  "language_info": {
   "codemirror_mode": {
    "name": "ipython",
    "version": 3
   },
   "file_extension": ".py",
   "mimetype": "text/x-python",
   "name": "python",
   "nbconvert_exporter": "python",
   "pygments_lexer": "ipython3",
   "version": "3.10.0"
  },
  "orig_nbformat": 4
 },
 "nbformat": 4,
 "nbformat_minor": 2
}
