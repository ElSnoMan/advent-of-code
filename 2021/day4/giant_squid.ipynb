{
 "cells": [
  {
   "cell_type": "code",
   "execution_count": 10,
   "metadata": {},
   "outputs": [],
   "source": [
    "import pandas as pd\n",
    "import numpy as np\n",
    "from rich import print\n",
    "\n",
    "from typing import List"
   ]
  },
  {
   "cell_type": "code",
   "execution_count": 2,
   "metadata": {},
   "outputs": [
    {
     "data": {
      "text/plain": [
       "['7,4,9,5,11,17,23,2,0,14,21,24,10,16,13,6,15,25,12,22,18,20,8,19,3,26,1',\n",
       " '22 13 17 11  0',\n",
       " ' 8  2 23  4 24',\n",
       " '21  9 14 16  7',\n",
       " ' 6 10  3 18  5',\n",
       " ' 1 12 20 15 19',\n",
       " ' 3 15  0  2 22',\n",
       " ' 9 18 13 17  5',\n",
       " '19  8  7 25 23',\n",
       " '20 11 10 24  4',\n",
       " '14 21 16 12  6',\n",
       " '14 21 17 24  4',\n",
       " '10 16 15  9 19',\n",
       " '18  8 23 26 20',\n",
       " '22 11 13  6  5',\n",
       " ' 2  0 12  3  7']"
      ]
     },
     "execution_count": 2,
     "metadata": {},
     "output_type": "execute_result"
    }
   ],
   "source": [
    "with open('example.txt', 'r') as f:\n",
    "    contents = [line for line in f.read().splitlines() if line]\n",
    "\n",
    "contents"
   ]
  },
  {
   "cell_type": "code",
   "execution_count": 11,
   "metadata": {},
   "outputs": [],
   "source": [
    "def get_numbers_to_draw(contents: List[str]) -> List[int]:\n",
    "    return [int(x) for x in contents[0].split(',')]"
   ]
  },
  {
   "cell_type": "code",
   "execution_count": 12,
   "metadata": {},
   "outputs": [],
   "source": [
    "draw_numbers = get_numbers_to_draw(contents)"
   ]
  },
  {
   "cell_type": "code",
   "execution_count": 9,
   "metadata": {},
   "outputs": [
    {
     "data": {
      "text/html": [
       "<pre style=\"white-space:pre;overflow-x:auto;line-height:normal;font-family:Menlo,'DejaVu Sans Mono',consolas,'Courier New',monospace\"><span style=\"font-weight: bold\">[</span>\n",
       "    <span style=\"font-weight: bold\">[</span>\n",
       "        <span style=\"color: #008000; text-decoration-color: #008000\">'22 13 17 11  0'</span>,\n",
       "        <span style=\"color: #008000; text-decoration-color: #008000\">' 8  2 23  4 24'</span>,\n",
       "        <span style=\"color: #008000; text-decoration-color: #008000\">'21  9 14 16  7'</span>,\n",
       "        <span style=\"color: #008000; text-decoration-color: #008000\">' 6 10  3 18  5'</span>,\n",
       "        <span style=\"color: #008000; text-decoration-color: #008000\">' 1 12 20 15 19'</span>\n",
       "    <span style=\"font-weight: bold\">]</span>,\n",
       "    <span style=\"font-weight: bold\">[</span>\n",
       "        <span style=\"color: #008000; text-decoration-color: #008000\">' 3 15  0  2 22'</span>,\n",
       "        <span style=\"color: #008000; text-decoration-color: #008000\">' 9 18 13 17  5'</span>,\n",
       "        <span style=\"color: #008000; text-decoration-color: #008000\">'19  8  7 25 23'</span>,\n",
       "        <span style=\"color: #008000; text-decoration-color: #008000\">'20 11 10 24  4'</span>,\n",
       "        <span style=\"color: #008000; text-decoration-color: #008000\">'14 21 16 12  6'</span>\n",
       "    <span style=\"font-weight: bold\">]</span>,\n",
       "    <span style=\"font-weight: bold\">[</span>\n",
       "        <span style=\"color: #008000; text-decoration-color: #008000\">'14 21 17 24  4'</span>,\n",
       "        <span style=\"color: #008000; text-decoration-color: #008000\">'10 16 15  9 19'</span>,\n",
       "        <span style=\"color: #008000; text-decoration-color: #008000\">'18  8 23 26 20'</span>,\n",
       "        <span style=\"color: #008000; text-decoration-color: #008000\">'22 11 13  6  5'</span>,\n",
       "        <span style=\"color: #008000; text-decoration-color: #008000\">' 2  0 12  3  7'</span>\n",
       "    <span style=\"font-weight: bold\">]</span>\n",
       "<span style=\"font-weight: bold\">]</span>\n",
       "</pre>\n"
      ],
      "text/plain": [
       "\u001b[1m[\u001b[0m\n",
       "    \u001b[1m[\u001b[0m\n",
       "        \u001b[32m'22 13 17 11  0'\u001b[0m,\n",
       "        \u001b[32m' 8  2 23  4 24'\u001b[0m,\n",
       "        \u001b[32m'21  9 14 16  7'\u001b[0m,\n",
       "        \u001b[32m' 6 10  3 18  5'\u001b[0m,\n",
       "        \u001b[32m' 1 12 20 15 19'\u001b[0m\n",
       "    \u001b[1m]\u001b[0m,\n",
       "    \u001b[1m[\u001b[0m\n",
       "        \u001b[32m' 3 15  0  2 22'\u001b[0m,\n",
       "        \u001b[32m' 9 18 13 17  5'\u001b[0m,\n",
       "        \u001b[32m'19  8  7 25 23'\u001b[0m,\n",
       "        \u001b[32m'20 11 10 24  4'\u001b[0m,\n",
       "        \u001b[32m'14 21 16 12  6'\u001b[0m\n",
       "    \u001b[1m]\u001b[0m,\n",
       "    \u001b[1m[\u001b[0m\n",
       "        \u001b[32m'14 21 17 24  4'\u001b[0m,\n",
       "        \u001b[32m'10 16 15  9 19'\u001b[0m,\n",
       "        \u001b[32m'18  8 23 26 20'\u001b[0m,\n",
       "        \u001b[32m'22 11 13  6  5'\u001b[0m,\n",
       "        \u001b[32m' 2  0 12  3  7'\u001b[0m\n",
       "    \u001b[1m]\u001b[0m\n",
       "\u001b[1m]\u001b[0m\n"
      ]
     },
     "metadata": {},
     "output_type": "display_data"
    }
   ],
   "source": [
    "# contents[1:6]\n",
    "# contents[6:11]\n",
    "# contents[11:16]\n",
    "boards = []\n",
    "start = 1\n",
    "end = 6\n",
    "\n",
    "while True:\n",
    "    window = contents[start:end]\n",
    "    if len(window) == 0:\n",
    "        break\n",
    "\n",
    "    boards.append(window)\n",
    "    start += 5\n",
    "    end += 5\n",
    "\n",
    "print(boards)"
   ]
  },
  {
   "cell_type": "code",
   "execution_count": 24,
   "metadata": {},
   "outputs": [
    {
     "data": {
      "text/plain": [
       "0    [22 13 17 11  0,  8  2 23  4 24, 21  9 14 16  ...\n",
       "1    [ 3 15  0  2 22,  9 18 13 17  5, 19  8  7 25 2...\n",
       "2    [14 21 17 24  4, 10 16 15  9 19, 18  8 23 26 2...\n",
       "dtype: object"
      ]
     },
     "execution_count": 24,
     "metadata": {},
     "output_type": "execute_result"
    }
   ],
   "source": [
    "series = pd.Series(boards)\n",
    "series"
   ]
  },
  {
   "cell_type": "code",
   "execution_count": 23,
   "metadata": {},
   "outputs": [
    {
     "data": {
      "text/html": [
       "<div>\n",
       "<style scoped>\n",
       "    .dataframe tbody tr th:only-of-type {\n",
       "        vertical-align: middle;\n",
       "    }\n",
       "\n",
       "    .dataframe tbody tr th {\n",
       "        vertical-align: top;\n",
       "    }\n",
       "\n",
       "    .dataframe thead th {\n",
       "        text-align: right;\n",
       "    }\n",
       "</style>\n",
       "<table border=\"1\" class=\"dataframe\">\n",
       "  <thead>\n",
       "    <tr style=\"text-align: right;\">\n",
       "      <th></th>\n",
       "      <th>0</th>\n",
       "      <th>1</th>\n",
       "      <th>2</th>\n",
       "      <th>3</th>\n",
       "      <th>4</th>\n",
       "    </tr>\n",
       "  </thead>\n",
       "  <tbody>\n",
       "    <tr>\n",
       "      <th>0</th>\n",
       "      <td>22 13 17 11  0</td>\n",
       "      <td>8  2 23  4 24</td>\n",
       "      <td>21  9 14 16  7</td>\n",
       "      <td>6 10  3 18  5</td>\n",
       "      <td>1 12 20 15 19</td>\n",
       "    </tr>\n",
       "    <tr>\n",
       "      <th>1</th>\n",
       "      <td>3 15  0  2 22</td>\n",
       "      <td>9 18 13 17  5</td>\n",
       "      <td>19  8  7 25 23</td>\n",
       "      <td>20 11 10 24  4</td>\n",
       "      <td>14 21 16 12  6</td>\n",
       "    </tr>\n",
       "    <tr>\n",
       "      <th>2</th>\n",
       "      <td>14 21 17 24  4</td>\n",
       "      <td>10 16 15  9 19</td>\n",
       "      <td>18  8 23 26 20</td>\n",
       "      <td>22 11 13  6  5</td>\n",
       "      <td>2  0 12  3  7</td>\n",
       "    </tr>\n",
       "  </tbody>\n",
       "</table>\n",
       "</div>"
      ],
      "text/plain": [
       "                0               1               2               3  \\\n",
       "0  22 13 17 11  0   8  2 23  4 24  21  9 14 16  7   6 10  3 18  5   \n",
       "1   3 15  0  2 22   9 18 13 17  5  19  8  7 25 23  20 11 10 24  4   \n",
       "2  14 21 17 24  4  10 16 15  9 19  18  8 23 26 20  22 11 13  6  5   \n",
       "\n",
       "                4  \n",
       "0   1 12 20 15 19  \n",
       "1  14 21 16 12  6  \n",
       "2   2  0 12  3  7  "
      ]
     },
     "execution_count": 23,
     "metadata": {},
     "output_type": "execute_result"
    }
   ],
   "source": [
    "df = pd.DataFrame(series.map(lambda x: list(x)).tolist())\n",
    "df"
   ]
  },
  {
   "cell_type": "code",
   "execution_count": 18,
   "metadata": {},
   "outputs": [
    {
     "data": {
      "text/plain": [
       "[3, 1, 5, 0, 2, 2, 2]"
      ]
     },
     "execution_count": 18,
     "metadata": {},
     "output_type": "execute_result"
    }
   ],
   "source": [
    "[int(num) for num in ' 3 15  0  2 22'.strip() if num.isdigit()]"
   ]
  },
  {
   "cell_type": "code",
   "execution_count": null,
   "metadata": {},
   "outputs": [],
   "source": [
    "transformed_boards = []\n",
    "for board in boards:\n",
    "    "
   ]
  },
  {
   "cell_type": "code",
   "execution_count": null,
   "metadata": {},
   "outputs": [],
   "source": [
    "df = pd.DataFrame(boards.map(lambda x: list(x)).tolist())\n",
    "df"
   ]
  }
 ],
 "metadata": {
  "interpreter": {
   "hash": "34403d292a9b2754dfe5b870d6db4b182f933a0e6ce7ddfe4cf347e29283fd48"
  },
  "kernelspec": {
   "display_name": "Python 3.10.0 64-bit ('advent-of-code-WLRwQ8qb-py3.10': poetry)",
   "language": "python",
   "name": "python3"
  },
  "language_info": {
   "codemirror_mode": {
    "name": "ipython",
    "version": 3
   },
   "file_extension": ".py",
   "mimetype": "text/x-python",
   "name": "python",
   "nbconvert_exporter": "python",
   "pygments_lexer": "ipython3",
   "version": "3.10.0"
  },
  "orig_nbformat": 4
 },
 "nbformat": 4,
 "nbformat_minor": 2
}
